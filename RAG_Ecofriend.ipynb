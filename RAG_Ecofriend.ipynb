{
 "cells": [
  {
   "cell_type": "markdown",
   "metadata": {},
   "source": [
    "### Librerias"
   ]
  },
  {
   "cell_type": "code",
   "execution_count": 9,
   "metadata": {},
   "outputs": [
    {
     "name": "stderr",
     "output_type": "stream",
     "text": [
      "c:\\Users\\inesc\\Bootcamp\\Module_3\\Smartwaste_Streamlit\\venv\\Lib\\site-packages\\tqdm\\auto.py:21: TqdmWarning: IProgress not found. Please update jupyter and ipywidgets. See https://ipywidgets.readthedocs.io/en/stable/user_install.html\n",
      "  from .autonotebook import tqdm as notebook_tqdm\n"
     ]
    }
   ],
   "source": [
    "from langchain_community.document_loaders import PyPDFLoader\n",
    "from langchain.vectorstores import Chroma\n",
    "from langchain.prompts import PromptTemplate \n",
    "from langchain_openai import ChatOpenAI, OpenAIEmbeddings\n",
    "from langchain_core.output_parsers import StrOutputParser\n",
    "from langchain_core.runnables import RunnablePassthrough\n",
    "import gradio as gr"
   ]
  },
  {
   "cell_type": "markdown",
   "metadata": {},
   "source": [
    "### Fuentes RAG"
   ]
  },
  {
   "cell_type": "code",
   "execution_count": 10,
   "metadata": {},
   "outputs": [],
   "source": [
    "url = 'https://www.madrid.es/UnidadesDescentralizadas/Educacion_Ambiental/ContenidosBasicos/Publicaciones/Residuos_Limpieza/GuiaReducirResiduos/GuíaBuenasPrácticasReducirResiduos.pdf'\n",
    "url2 = 'DATA/CS-RecogidaResiduos_Folleto2024.pdf'\n",
    "url3 = 'https://www.madrid.es/UnidadesDescentralizadas/UDCEstadistica/Nuevaweb/Publicaciones/anuesta/nuevos/Anuario%20Estadístico%20Municipal/Anuario%20estadístico%202023/Capítulos/CAPITULO%206.pdf'\n",
    "url4 = 'https://www.icv.csic.es/prevencion/Documentos/residuos/puntos.pdf'\n",
    "url5 =  'https://www.redcimas.org/wordpress/wp-content/uploads/2013/02/gestionresiduos_comparativa.pdf'\n",
    "url6 = 'https://conerrede.es/wp-content/uploads/2022/08/dossier-informativo_ayto-madrid.pdf'\n"
   ]
  },
  {
   "cell_type": "markdown",
   "metadata": {},
   "source": [
    "### Configuracion"
   ]
  },
  {
   "cell_type": "code",
   "execution_count": 12,
   "metadata": {},
   "outputs": [],
   "source": [
    "API_KEY = ''\n",
    "llm = ChatOpenAI(model='gpt-3.5-turbo-0125' , temperature= 0 , api_key=API_KEY)\n",
    "emmbeding = OpenAIEmbeddings(api_key= API_KEY)"
   ]
  },
  {
   "cell_type": "markdown",
   "metadata": {},
   "source": [
    "### Corpus"
   ]
  },
  {
   "cell_type": "code",
   "execution_count": 13,
   "metadata": {},
   "outputs": [],
   "source": [
    "urls = [url, url3, url4,url5,url6] #un libro de libros"
   ]
  },
  {
   "cell_type": "code",
   "execution_count": 16,
   "metadata": {},
   "outputs": [],
   "source": [
    "\n",
    "pages = []\n",
    "for url in urls:\n",
    "    pdf = PyPDFLoader(url)\n",
    "    pages += pdf.load_and_split()"
   ]
  },
  {
   "cell_type": "code",
   "execution_count": 17,
   "metadata": {},
   "outputs": [
    {
     "data": {
      "text/plain": [
       "222"
      ]
     },
     "execution_count": 17,
     "metadata": {},
     "output_type": "execute_result"
    }
   ],
   "source": [
    "len(pages)"
   ]
  },
  {
   "cell_type": "code",
   "execution_count": 18,
   "metadata": {},
   "outputs": [
    {
     "data": {
      "text/plain": [
       "Document(metadata={'source': 'https://conerrede.es/wp-content/uploads/2022/08/dossier-informativo_ayto-madrid.pdf', 'page': 13, 'page_label': '14'}, page_content='La prevención de residuos \\nNo sólo es necesario separar correctamente los residuos generados sino incorporar nuevos hábitos \\nde consumo más sostenibles y responsables encaminados a la reducción de la producción de \\nresiduos como:  \\n• Evitar el consumo de productos de un solo uso (bolsas de plástico, botellas de plástico, film \\ntransparente, papel de aluminio, vasos y platos desechables , servilletas de papel etc.) y \\nsustituirlos por envases reutilizables y/o rellenables (bolsas de tela o rafia, servilletas de \\ntela, cantimploras, portabocadillos, recipientes reutilizables etc.  \\n• Elegir productos a granel, o con el mínimo de embalaje posibl e y procurar evitar aquellos \\ncon embalajes compuestos de distintos materiales, ya que resulta un incremento de \\nresiduos y resulta difícil separarlos.  \\n• Reutilizar los productos tantas veces como sea posible o buscar nuevos usos (frascos de \\nproductos ya consumidos para rellenarlos o guardar otros productos, reutilizar las bolsas de \\nplástico tantas veces como sea posible...). \\n• Cuidar y llevar a cabo el mantenimiento preventivo de los productos para alargar su \\nduración y vida útil. \\n• Intentar reparar los productos  que se hayan estropeado antes de tirarlo s y comprar \\nproductos nuevos.  \\n• Proporcionar segundas vidas a los productos que ya no vayamos a utilizar donándolos o \\nintercambiándolos. \\n• Adquirir productos de segunda mano.  \\nApliquemos las 7 erres para mejorar la ges tión de nuestros residuos y conseguir un Madrid más \\nlimpio y sostenible:')"
      ]
     },
     "execution_count": 18,
     "metadata": {},
     "output_type": "execute_result"
    }
   ],
   "source": [
    "pages[210]"
   ]
  },
  {
   "cell_type": "markdown",
   "metadata": {},
   "source": [
    "# Vectorstore "
   ]
  },
  {
   "cell_type": "code",
   "execution_count": 33,
   "metadata": {},
   "outputs": [],
   "source": [
    "from langchain.vectorstores import Chroma\n",
    "\n",
    "# Initialize the vectorstore with persistence\n",
    "vectorstore = Chroma.from_documents(\n",
    "    documents=pages,\n",
    "    embedding=emmbeding,\n",
    "    persist_directory=\"C:/Users/inesc/Bootcamp/Module_3/Smartwaste_Streamlit/vector_store\"  # Specify directory\n",
    ")\n",
    "\n",
    "# Persist the vectorstore to disk\n",
    "vectorstore.persist()\n",
    "\n",
    "# Create a retriever\n",
    "retriever = vectorstore.as_retriever()\n"
   ]
  },
  {
   "cell_type": "markdown",
   "metadata": {},
   "source": [
    "# Prompt Template"
   ]
  },
  {
   "cell_type": "code",
   "execution_count": 34,
   "metadata": {},
   "outputs": [],
   "source": [
    " template = \"\"\"\n",
    "          ###INSTRUCCIONES:\n",
    "          Eres un asistente virtual en tareas de concienciacion del reciclaje y las buenas practicas medioambientales y tu objetivo es recopilar y dar respuesta segun la informacion que tienes a las preguntas que te planteen los usuarios.Seimpre con un tono amigable y pedagogico.\n",
    "\n",
    "          En tu respuesta, SIEMPRE:\n",
    "          (0)Se un lector atento a los detalles: Lee la pregunta y el contexto, entiende ambos antes de responder\n",
    "          (1)Tu respuesta comienza con un tono amigable, asegúrate de que entiendes la pregunta del usuario correctamente, en caso negativo, pregunta al usuario para obtener más información.\n",
    "          (2)Si el contexto te permite responder a la pregunta, escribe una respuesta detallada, útil y fácil de entender, CON FUENTES REFERENCIADAS EN EL TEXTO. SI NO: no puedes encontrar la respuesta, responde con una explicación, comenzando con: \"No pude encontrar la información en los documentos a los que tengo acceso\".\n",
    "          (3)Debajo de tu respuesta, proporciona un enlace a la fuente referenciada( Es decir, párrafos legales, artículos, etc.) y una breve explicación de por qué la fuente es relevante.\n",
    "          (4)Ahora que ya tienes tu respuesta, revísala para asegurarte de que sea clara, precisa y educada y cumple con los puntos anteriores.\n",
    "\n",
    "          ###PIENSA PASO POR PASO\n",
    "\n",
    "            Responde a la siguiente pregunta utilizando el contexto proporcionado.\n",
    "              ### Question: {question} ###\n",
    "              ### Context: {context} ###\n",
    "              ### Respuesta 'util con Fuentes:        \n",
    "\"\"\"\n",
    "\n",
    "prompt = PromptTemplate.from_template(template)"
   ]
  },
  {
   "cell_type": "markdown",
   "metadata": {},
   "source": [
    "## Chain"
   ]
  },
  {
   "cell_type": "code",
   "execution_count": 35,
   "metadata": {},
   "outputs": [],
   "source": [
    "chain = (\n",
    "    {'context':retriever,\n",
    "     'question':RunnablePassthrough()}\n",
    "     | prompt\n",
    "     | llm\n",
    "     | StrOutputParser()\n",
    ")\n",
    " "
   ]
  },
  {
   "cell_type": "code",
   "execution_count": 36,
   "metadata": {},
   "outputs": [],
   "source": [
    "def get_asnwer(question):\n",
    "    return chain.invoke(question)"
   ]
  },
  {
   "cell_type": "code",
   "execution_count": 37,
   "metadata": {},
   "outputs": [
    {
     "data": {
      "text/plain": [
       "'¡Hola! Para desechar residuos orgánicos, como restos de alimentos, posos de café, hojas y ramas de plantas, entre otros, debes depositarlos en el contenedor gris con tapa naranja. Este contenedor está destinado para los restos orgánicos, mientras que otros residuos domésticos deben ser depositados en lugares como el Punto Limpio Móvil, Punto Limpio Fijo, contenedores de pilas, entre otros.\\n\\nLa materia orgánica depositada en este contenedor puede ser transformada en compost, un abono orgánico de alta calidad que puede ser utilizado para fertilizar el suelo. En los Centros de tratamiento del Parque Tecnológico de Valdemingómez, se lleva a cabo el compostaje de la materia orgánica para obtener este valioso abono.\\n\\nSi tienes dudas sobre dónde desechar un residuo en particular, se recomienda depositarlo en el contenedor gris con tapa naranja.\\n\\nFuente: https://www.madrid.es/UnidadesDescentralizadas/Educacion_Ambiental/ContenidosBasicos/Publicaciones/Residuos_Limpieza/GuiaReducirResiduos/GuíaBuenasPrácticasReducirResiduos.pdf\\n\\nEsta fuente es relevante porque proporciona información detallada sobre la gestión de residuos orgánicos y la importancia del compostaje en la reducción de residuos y la mejora del medio ambiente.'"
      ]
     },
     "execution_count": 37,
     "metadata": {},
     "output_type": "execute_result"
    }
   ],
   "source": [
    "get_asnwer('donde puedo tirar resoduos organicos')"
   ]
  },
  {
   "cell_type": "code",
   "execution_count": 27,
   "metadata": {},
   "outputs": [
    {
     "name": "stderr",
     "output_type": "stream",
     "text": [
      "c:\\Users\\inesc\\Bootcamp\\Module_3\\Smartwaste_Streamlit\\venv\\Lib\\site-packages\\gradio\\interface.py:403: UserWarning: The `allow_flagging` parameter in `Interface` is deprecated.Use `flagging_mode` instead.\n",
      "  warnings.warn(\n"
     ]
    },
    {
     "name": "stdout",
     "output_type": "stream",
     "text": [
      "* Running on local URL:  http://127.0.0.1:7860\n",
      "\n",
      "To create a public link, set `share=True` in `launch()`.\n"
     ]
    },
    {
     "data": {
      "text/html": [
       "<div><iframe src=\"http://127.0.0.1:7860/\" width=\"100%\" height=\"500\" allow=\"autoplay; camera; microphone; clipboard-read; clipboard-write;\" frameborder=\"0\" allowfullscreen></iframe></div>"
      ],
      "text/plain": [
       "<IPython.core.display.HTML object>"
      ]
     },
     "metadata": {},
     "output_type": "display_data"
    },
    {
     "data": {
      "text/plain": []
     },
     "execution_count": 27,
     "metadata": {},
     "output_type": "execute_result"
    }
   ],
   "source": [
    "iface = gr.Interface(fn=get_asnwer, inputs=gr.Textbox(\n",
    "    value=\"Pregúntame lo que necesites\"),\n",
    "    live=False, \n",
    "    outputs=\"markdown\",  \n",
    "    title=\"Inteligencia sobre documentación mediante LLM\",\n",
    "    description=\"Puedes preguntar cualquier pregunta sobre migración\",\n",
    "    theme=gr.themes.Soft(),\n",
    "    allow_flagging=\"never\",)\n",
    "\n",
    "iface.launch()"
   ]
  }
 ],
 "metadata": {
  "kernelspec": {
   "display_name": "venv",
   "language": "python",
   "name": "python3"
  },
  "language_info": {
   "codemirror_mode": {
    "name": "ipython",
    "version": 3
   },
   "file_extension": ".py",
   "mimetype": "text/x-python",
   "name": "python",
   "nbconvert_exporter": "python",
   "pygments_lexer": "ipython3",
   "version": "3.11.9"
  }
 },
 "nbformat": 4,
 "nbformat_minor": 2
}

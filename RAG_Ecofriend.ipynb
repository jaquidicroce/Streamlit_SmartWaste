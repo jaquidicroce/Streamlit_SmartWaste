{
 "cells": [
  {
   "cell_type": "markdown",
   "metadata": {},
   "source": [
    "### Librerias"
   ]
  },
  {
   "cell_type": "code",
   "execution_count": 3,
   "metadata": {},
   "outputs": [
    {
     "name": "stdout",
     "output_type": "stream",
     "text": [
      "Collecting langchain_openai\n",
      "  Using cached langchain_openai-0.3.3-py3-none-any.whl.metadata (2.7 kB)\n",
      "Collecting gradio\n",
      "  Using cached gradio-5.14.0-py3-none-any.whl.metadata (16 kB)\n",
      "Collecting chromadb\n",
      "  Using cached chromadb-0.6.3-py3-none-any.whl.metadata (6.8 kB)\n",
      "Requirement already satisfied: pypdf in c:\\users\\inesc\\bootcamp\\module_3\\proyecto_final_smartwaste_madrid\\venv2\\lib\\site-packages (5.2.0)\n",
      "Requirement already satisfied: ipywidgets in c:\\users\\inesc\\bootcamp\\module_3\\proyecto_final_smartwaste_madrid\\venv2\\lib\\site-packages (8.1.5)\n",
      "Collecting langchain_community\n",
      "  Using cached langchain_community-0.3.16-py3-none-any.whl.metadata (2.9 kB)\n",
      "Collecting langchain-core<0.4.0,>=0.3.33 (from langchain_openai)\n",
      "  Using cached langchain_core-0.3.33-py3-none-any.whl.metadata (6.3 kB)\n",
      "Requirement already satisfied: openai<2.0.0,>=1.58.1 in c:\\users\\inesc\\bootcamp\\module_3\\proyecto_final_smartwaste_madrid\\venv2\\lib\\site-packages (from langchain_openai) (1.61.0)\n",
      "Requirement already satisfied: tiktoken<1,>=0.7 in c:\\users\\inesc\\bootcamp\\module_3\\proyecto_final_smartwaste_madrid\\venv2\\lib\\site-packages (from langchain_openai) (0.8.0)\n",
      "Requirement already satisfied: aiofiles<24.0,>=22.0 in c:\\users\\inesc\\bootcamp\\module_3\\proyecto_final_smartwaste_madrid\\venv2\\lib\\site-packages (from gradio) (23.2.1)\n",
      "Requirement already satisfied: anyio<5.0,>=3.0 in c:\\users\\inesc\\bootcamp\\module_3\\proyecto_final_smartwaste_madrid\\venv2\\lib\\site-packages (from gradio) (4.8.0)\n",
      "Collecting fastapi<1.0,>=0.115.2 (from gradio)\n",
      "  Using cached fastapi-0.115.8-py3-none-any.whl.metadata (27 kB)\n",
      "Requirement already satisfied: ffmpy in c:\\users\\inesc\\bootcamp\\module_3\\proyecto_final_smartwaste_madrid\\venv2\\lib\\site-packages (from gradio) (0.5.0)\n",
      "Collecting gradio-client==1.7.0 (from gradio)\n",
      "  Using cached gradio_client-1.7.0-py3-none-any.whl.metadata (7.1 kB)\n",
      "Requirement already satisfied: httpx>=0.24.1 in c:\\users\\inesc\\bootcamp\\module_3\\proyecto_final_smartwaste_madrid\\venv2\\lib\\site-packages (from gradio) (0.28.1)\n",
      "Requirement already satisfied: huggingface-hub>=0.25.1 in c:\\users\\inesc\\bootcamp\\module_3\\proyecto_final_smartwaste_madrid\\venv2\\lib\\site-packages (from gradio) (0.28.1)\n",
      "Requirement already satisfied: jinja2<4.0 in c:\\users\\inesc\\bootcamp\\module_3\\proyecto_final_smartwaste_madrid\\venv2\\lib\\site-packages (from gradio) (3.1.5)\n",
      "Requirement already satisfied: markupsafe~=2.0 in c:\\users\\inesc\\bootcamp\\module_3\\proyecto_final_smartwaste_madrid\\venv2\\lib\\site-packages (from gradio) (2.1.5)\n",
      "Requirement already satisfied: numpy<3.0,>=1.0 in c:\\users\\inesc\\bootcamp\\module_3\\proyecto_final_smartwaste_madrid\\venv2\\lib\\site-packages (from gradio) (1.26.4)\n",
      "Requirement already satisfied: orjson~=3.0 in c:\\users\\inesc\\bootcamp\\module_3\\proyecto_final_smartwaste_madrid\\venv2\\lib\\site-packages (from gradio) (3.10.15)\n",
      "Requirement already satisfied: packaging in c:\\users\\inesc\\bootcamp\\module_3\\proyecto_final_smartwaste_madrid\\venv2\\lib\\site-packages (from gradio) (24.2)\n",
      "Requirement already satisfied: pandas<3.0,>=1.0 in c:\\users\\inesc\\bootcamp\\module_3\\proyecto_final_smartwaste_madrid\\venv2\\lib\\site-packages (from gradio) (2.2.3)\n",
      "Requirement already satisfied: pillow<12.0,>=8.0 in c:\\users\\inesc\\bootcamp\\module_3\\proyecto_final_smartwaste_madrid\\venv2\\lib\\site-packages (from gradio) (11.1.0)\n",
      "Requirement already satisfied: pydantic>=2.0 in c:\\users\\inesc\\bootcamp\\module_3\\proyecto_final_smartwaste_madrid\\venv2\\lib\\site-packages (from gradio) (2.10.6)\n",
      "Requirement already satisfied: pydub in c:\\users\\inesc\\bootcamp\\module_3\\proyecto_final_smartwaste_madrid\\venv2\\lib\\site-packages (from gradio) (0.25.1)\n",
      "Requirement already satisfied: python-multipart>=0.0.18 in c:\\users\\inesc\\bootcamp\\module_3\\proyecto_final_smartwaste_madrid\\venv2\\lib\\site-packages (from gradio) (0.0.20)\n",
      "Requirement already satisfied: pyyaml<7.0,>=5.0 in c:\\users\\inesc\\bootcamp\\module_3\\proyecto_final_smartwaste_madrid\\venv2\\lib\\site-packages (from gradio) (6.0.2)\n",
      "Requirement already satisfied: ruff>=0.9.3 in c:\\users\\inesc\\bootcamp\\module_3\\proyecto_final_smartwaste_madrid\\venv2\\lib\\site-packages (from gradio) (0.9.4)\n",
      "Requirement already satisfied: safehttpx<0.2.0,>=0.1.6 in c:\\users\\inesc\\bootcamp\\module_3\\proyecto_final_smartwaste_madrid\\venv2\\lib\\site-packages (from gradio) (0.1.6)\n",
      "Requirement already satisfied: semantic-version~=2.0 in c:\\users\\inesc\\bootcamp\\module_3\\proyecto_final_smartwaste_madrid\\venv2\\lib\\site-packages (from gradio) (2.10.0)\n",
      "Requirement already satisfied: starlette<1.0,>=0.40.0 in c:\\users\\inesc\\bootcamp\\module_3\\proyecto_final_smartwaste_madrid\\venv2\\lib\\site-packages (from gradio) (0.45.3)\n",
      "Requirement already satisfied: tomlkit<0.14.0,>=0.12.0 in c:\\users\\inesc\\bootcamp\\module_3\\proyecto_final_smartwaste_madrid\\venv2\\lib\\site-packages (from gradio) (0.13.2)\n",
      "Requirement already satisfied: typer<1.0,>=0.12 in c:\\users\\inesc\\bootcamp\\module_3\\proyecto_final_smartwaste_madrid\\venv2\\lib\\site-packages (from gradio) (0.15.1)\n",
      "Requirement already satisfied: typing-extensions~=4.0 in c:\\users\\inesc\\bootcamp\\module_3\\proyecto_final_smartwaste_madrid\\venv2\\lib\\site-packages (from gradio) (4.12.2)\n",
      "Requirement already satisfied: uvicorn>=0.14.0 in c:\\users\\inesc\\bootcamp\\module_3\\proyecto_final_smartwaste_madrid\\venv2\\lib\\site-packages (from gradio) (0.34.0)\n",
      "Requirement already satisfied: fsspec in c:\\users\\inesc\\bootcamp\\module_3\\proyecto_final_smartwaste_madrid\\venv2\\lib\\site-packages (from gradio-client==1.7.0->gradio) (2025.2.0)\n",
      "Requirement already satisfied: websockets<15.0,>=10.0 in c:\\users\\inesc\\bootcamp\\module_3\\proyecto_final_smartwaste_madrid\\venv2\\lib\\site-packages (from gradio-client==1.7.0->gradio) (14.2)\n",
      "Requirement already satisfied: build>=1.0.3 in c:\\users\\inesc\\bootcamp\\module_3\\proyecto_final_smartwaste_madrid\\venv2\\lib\\site-packages (from chromadb) (1.2.2.post1)\n",
      "Requirement already satisfied: chroma-hnswlib==0.7.6 in c:\\users\\inesc\\bootcamp\\module_3\\proyecto_final_smartwaste_madrid\\venv2\\lib\\site-packages (from chromadb) (0.7.6)\n",
      "Requirement already satisfied: posthog>=2.4.0 in c:\\users\\inesc\\bootcamp\\module_3\\proyecto_final_smartwaste_madrid\\venv2\\lib\\site-packages (from chromadb) (3.11.0)\n",
      "Requirement already satisfied: onnxruntime>=1.14.1 in c:\\users\\inesc\\bootcamp\\module_3\\proyecto_final_smartwaste_madrid\\venv2\\lib\\site-packages (from chromadb) (1.20.1)\n",
      "Requirement already satisfied: opentelemetry-api>=1.2.0 in c:\\users\\inesc\\bootcamp\\module_3\\proyecto_final_smartwaste_madrid\\venv2\\lib\\site-packages (from chromadb) (1.29.0)\n",
      "Collecting opentelemetry-exporter-otlp-proto-grpc>=1.2.0 (from chromadb)\n",
      "  Using cached opentelemetry_exporter_otlp_proto_grpc-1.29.0-py3-none-any.whl.metadata (2.2 kB)\n",
      "Collecting opentelemetry-instrumentation-fastapi>=0.41b0 (from chromadb)\n",
      "  Using cached opentelemetry_instrumentation_fastapi-0.50b0-py3-none-any.whl.metadata (2.1 kB)\n",
      "Collecting opentelemetry-sdk>=1.2.0 (from chromadb)\n",
      "  Using cached opentelemetry_sdk-1.29.0-py3-none-any.whl.metadata (1.5 kB)\n",
      "Requirement already satisfied: tokenizers>=0.13.2 in c:\\users\\inesc\\bootcamp\\module_3\\proyecto_final_smartwaste_madrid\\venv2\\lib\\site-packages (from chromadb) (0.21.0)\n",
      "Requirement already satisfied: pypika>=0.48.9 in c:\\users\\inesc\\bootcamp\\module_3\\proyecto_final_smartwaste_madrid\\venv2\\lib\\site-packages (from chromadb) (0.48.9)\n",
      "Requirement already satisfied: tqdm>=4.65.0 in c:\\users\\inesc\\bootcamp\\module_3\\proyecto_final_smartwaste_madrid\\venv2\\lib\\site-packages (from chromadb) (4.67.1)\n",
      "Requirement already satisfied: overrides>=7.3.1 in c:\\users\\inesc\\bootcamp\\module_3\\proyecto_final_smartwaste_madrid\\venv2\\lib\\site-packages (from chromadb) (7.7.0)\n",
      "Requirement already satisfied: importlib-resources in c:\\users\\inesc\\bootcamp\\module_3\\proyecto_final_smartwaste_madrid\\venv2\\lib\\site-packages (from chromadb) (6.5.2)\n",
      "Requirement already satisfied: grpcio>=1.58.0 in c:\\users\\inesc\\bootcamp\\module_3\\proyecto_final_smartwaste_madrid\\venv2\\lib\\site-packages (from chromadb) (1.70.0)\n",
      "Requirement already satisfied: bcrypt>=4.0.1 in c:\\users\\inesc\\bootcamp\\module_3\\proyecto_final_smartwaste_madrid\\venv2\\lib\\site-packages (from chromadb) (4.2.1)\n",
      "Requirement already satisfied: kubernetes>=28.1.0 in c:\\users\\inesc\\bootcamp\\module_3\\proyecto_final_smartwaste_madrid\\venv2\\lib\\site-packages (from chromadb) (32.0.0)\n",
      "Requirement already satisfied: tenacity>=8.2.3 in c:\\users\\inesc\\bootcamp\\module_3\\proyecto_final_smartwaste_madrid\\venv2\\lib\\site-packages (from chromadb) (9.0.0)\n",
      "Requirement already satisfied: mmh3>=4.0.1 in c:\\users\\inesc\\bootcamp\\module_3\\proyecto_final_smartwaste_madrid\\venv2\\lib\\site-packages (from chromadb) (5.1.0)\n",
      "Requirement already satisfied: rich>=10.11.0 in c:\\users\\inesc\\bootcamp\\module_3\\proyecto_final_smartwaste_madrid\\venv2\\lib\\site-packages (from chromadb) (13.9.4)\n",
      "Requirement already satisfied: comm>=0.1.3 in c:\\users\\inesc\\bootcamp\\module_3\\proyecto_final_smartwaste_madrid\\venv2\\lib\\site-packages (from ipywidgets) (0.2.2)\n",
      "Requirement already satisfied: ipython>=6.1.0 in c:\\users\\inesc\\bootcamp\\module_3\\proyecto_final_smartwaste_madrid\\venv2\\lib\\site-packages (from ipywidgets) (8.32.0)\n",
      "Requirement already satisfied: traitlets>=4.3.1 in c:\\users\\inesc\\bootcamp\\module_3\\proyecto_final_smartwaste_madrid\\venv2\\lib\\site-packages (from ipywidgets) (5.14.3)\n",
      "Requirement already satisfied: widgetsnbextension~=4.0.12 in c:\\users\\inesc\\bootcamp\\module_3\\proyecto_final_smartwaste_madrid\\venv2\\lib\\site-packages (from ipywidgets) (4.0.13)\n",
      "Requirement already satisfied: jupyterlab-widgets~=3.0.12 in c:\\users\\inesc\\bootcamp\\module_3\\proyecto_final_smartwaste_madrid\\venv2\\lib\\site-packages (from ipywidgets) (3.0.13)\n",
      "Requirement already satisfied: SQLAlchemy<3,>=1.4 in c:\\users\\inesc\\bootcamp\\module_3\\proyecto_final_smartwaste_madrid\\venv2\\lib\\site-packages (from langchain_community) (2.0.37)\n",
      "Requirement already satisfied: aiohttp<4.0.0,>=3.8.3 in c:\\users\\inesc\\bootcamp\\module_3\\proyecto_final_smartwaste_madrid\\venv2\\lib\\site-packages (from langchain_community) (3.11.11)\n",
      "Requirement already satisfied: dataclasses-json<0.7,>=0.5.7 in c:\\users\\inesc\\bootcamp\\module_3\\proyecto_final_smartwaste_madrid\\venv2\\lib\\site-packages (from langchain_community) (0.6.7)\n",
      "Requirement already satisfied: httpx-sse<0.5.0,>=0.4.0 in c:\\users\\inesc\\bootcamp\\module_3\\proyecto_final_smartwaste_madrid\\venv2\\lib\\site-packages (from langchain_community) (0.4.0)\n",
      "Collecting langchain<0.4.0,>=0.3.16 (from langchain_community)\n",
      "  Using cached langchain-0.3.17-py3-none-any.whl.metadata (7.1 kB)\n",
      "Requirement already satisfied: langsmith<0.4,>=0.1.125 in c:\\users\\inesc\\bootcamp\\module_3\\proyecto_final_smartwaste_madrid\\venv2\\lib\\site-packages (from langchain_community) (0.3.4)\n",
      "Requirement already satisfied: pydantic-settings<3.0.0,>=2.4.0 in c:\\users\\inesc\\bootcamp\\module_3\\proyecto_final_smartwaste_madrid\\venv2\\lib\\site-packages (from langchain_community) (2.7.1)\n",
      "Requirement already satisfied: requests<3,>=2 in c:\\users\\inesc\\bootcamp\\module_3\\proyecto_final_smartwaste_madrid\\venv2\\lib\\site-packages (from langchain_community) (2.32.3)\n",
      "Requirement already satisfied: aiohappyeyeballs>=2.3.0 in c:\\users\\inesc\\bootcamp\\module_3\\proyecto_final_smartwaste_madrid\\venv2\\lib\\site-packages (from aiohttp<4.0.0,>=3.8.3->langchain_community) (2.4.4)\n",
      "Requirement already satisfied: aiosignal>=1.1.2 in c:\\users\\inesc\\bootcamp\\module_3\\proyecto_final_smartwaste_madrid\\venv2\\lib\\site-packages (from aiohttp<4.0.0,>=3.8.3->langchain_community) (1.3.2)\n",
      "Requirement already satisfied: attrs>=17.3.0 in c:\\users\\inesc\\bootcamp\\module_3\\proyecto_final_smartwaste_madrid\\venv2\\lib\\site-packages (from aiohttp<4.0.0,>=3.8.3->langchain_community) (25.1.0)\n",
      "Requirement already satisfied: frozenlist>=1.1.1 in c:\\users\\inesc\\bootcamp\\module_3\\proyecto_final_smartwaste_madrid\\venv2\\lib\\site-packages (from aiohttp<4.0.0,>=3.8.3->langchain_community) (1.5.0)\n",
      "Requirement already satisfied: multidict<7.0,>=4.5 in c:\\users\\inesc\\bootcamp\\module_3\\proyecto_final_smartwaste_madrid\\venv2\\lib\\site-packages (from aiohttp<4.0.0,>=3.8.3->langchain_community) (6.1.0)\n",
      "Requirement already satisfied: propcache>=0.2.0 in c:\\users\\inesc\\bootcamp\\module_3\\proyecto_final_smartwaste_madrid\\venv2\\lib\\site-packages (from aiohttp<4.0.0,>=3.8.3->langchain_community) (0.2.1)\n",
      "Requirement already satisfied: yarl<2.0,>=1.17.0 in c:\\users\\inesc\\bootcamp\\module_3\\proyecto_final_smartwaste_madrid\\venv2\\lib\\site-packages (from aiohttp<4.0.0,>=3.8.3->langchain_community) (1.18.3)\n",
      "Requirement already satisfied: idna>=2.8 in c:\\users\\inesc\\bootcamp\\module_3\\proyecto_final_smartwaste_madrid\\venv2\\lib\\site-packages (from anyio<5.0,>=3.0->gradio) (3.10)\n",
      "Requirement already satisfied: sniffio>=1.1 in c:\\users\\inesc\\bootcamp\\module_3\\proyecto_final_smartwaste_madrid\\venv2\\lib\\site-packages (from anyio<5.0,>=3.0->gradio) (1.3.1)\n",
      "Requirement already satisfied: pyproject_hooks in c:\\users\\inesc\\bootcamp\\module_3\\proyecto_final_smartwaste_madrid\\venv2\\lib\\site-packages (from build>=1.0.3->chromadb) (1.2.0)\n",
      "Requirement already satisfied: colorama in c:\\users\\inesc\\bootcamp\\module_3\\proyecto_final_smartwaste_madrid\\venv2\\lib\\site-packages (from build>=1.0.3->chromadb) (0.4.6)\n",
      "Requirement already satisfied: marshmallow<4.0.0,>=3.18.0 in c:\\users\\inesc\\bootcamp\\module_3\\proyecto_final_smartwaste_madrid\\venv2\\lib\\site-packages (from dataclasses-json<0.7,>=0.5.7->langchain_community) (3.26.1)\n",
      "Requirement already satisfied: typing-inspect<1,>=0.4.0 in c:\\users\\inesc\\bootcamp\\module_3\\proyecto_final_smartwaste_madrid\\venv2\\lib\\site-packages (from dataclasses-json<0.7,>=0.5.7->langchain_community) (0.9.0)\n",
      "Requirement already satisfied: certifi in c:\\users\\inesc\\bootcamp\\module_3\\proyecto_final_smartwaste_madrid\\venv2\\lib\\site-packages (from httpx>=0.24.1->gradio) (2025.1.31)\n",
      "Requirement already satisfied: httpcore==1.* in c:\\users\\inesc\\bootcamp\\module_3\\proyecto_final_smartwaste_madrid\\venv2\\lib\\site-packages (from httpx>=0.24.1->gradio) (1.0.7)\n",
      "Requirement already satisfied: h11<0.15,>=0.13 in c:\\users\\inesc\\bootcamp\\module_3\\proyecto_final_smartwaste_madrid\\venv2\\lib\\site-packages (from httpcore==1.*->httpx>=0.24.1->gradio) (0.14.0)\n",
      "Requirement already satisfied: filelock in c:\\users\\inesc\\bootcamp\\module_3\\proyecto_final_smartwaste_madrid\\venv2\\lib\\site-packages (from huggingface-hub>=0.25.1->gradio) (3.17.0)\n",
      "Requirement already satisfied: decorator in c:\\users\\inesc\\bootcamp\\module_3\\proyecto_final_smartwaste_madrid\\venv2\\lib\\site-packages (from ipython>=6.1.0->ipywidgets) (5.1.1)\n",
      "Requirement already satisfied: jedi>=0.16 in c:\\users\\inesc\\bootcamp\\module_3\\proyecto_final_smartwaste_madrid\\venv2\\lib\\site-packages (from ipython>=6.1.0->ipywidgets) (0.19.2)\n",
      "Requirement already satisfied: matplotlib-inline in c:\\users\\inesc\\bootcamp\\module_3\\proyecto_final_smartwaste_madrid\\venv2\\lib\\site-packages (from ipython>=6.1.0->ipywidgets) (0.1.7)\n",
      "Requirement already satisfied: prompt_toolkit<3.1.0,>=3.0.41 in c:\\users\\inesc\\bootcamp\\module_3\\proyecto_final_smartwaste_madrid\\venv2\\lib\\site-packages (from ipython>=6.1.0->ipywidgets) (3.0.50)\n",
      "Requirement already satisfied: pygments>=2.4.0 in c:\\users\\inesc\\bootcamp\\module_3\\proyecto_final_smartwaste_madrid\\venv2\\lib\\site-packages (from ipython>=6.1.0->ipywidgets) (2.19.1)\n",
      "Requirement already satisfied: stack_data in c:\\users\\inesc\\bootcamp\\module_3\\proyecto_final_smartwaste_madrid\\venv2\\lib\\site-packages (from ipython>=6.1.0->ipywidgets) (0.6.3)\n",
      "Requirement already satisfied: six>=1.9.0 in c:\\users\\inesc\\bootcamp\\module_3\\proyecto_final_smartwaste_madrid\\venv2\\lib\\site-packages (from kubernetes>=28.1.0->chromadb) (1.17.0)\n",
      "Requirement already satisfied: python-dateutil>=2.5.3 in c:\\users\\inesc\\bootcamp\\module_3\\proyecto_final_smartwaste_madrid\\venv2\\lib\\site-packages (from kubernetes>=28.1.0->chromadb) (2.9.0.post0)\n",
      "Requirement already satisfied: google-auth>=1.0.1 in c:\\users\\inesc\\bootcamp\\module_3\\proyecto_final_smartwaste_madrid\\venv2\\lib\\site-packages (from kubernetes>=28.1.0->chromadb) (2.38.0)\n",
      "Requirement already satisfied: websocket-client!=0.40.0,!=0.41.*,!=0.42.*,>=0.32.0 in c:\\users\\inesc\\bootcamp\\module_3\\proyecto_final_smartwaste_madrid\\venv2\\lib\\site-packages (from kubernetes>=28.1.0->chromadb) (1.8.0)\n",
      "Requirement already satisfied: requests-oauthlib in c:\\users\\inesc\\bootcamp\\module_3\\proyecto_final_smartwaste_madrid\\venv2\\lib\\site-packages (from kubernetes>=28.1.0->chromadb) (2.0.0)\n",
      "Requirement already satisfied: oauthlib>=3.2.2 in c:\\users\\inesc\\bootcamp\\module_3\\proyecto_final_smartwaste_madrid\\venv2\\lib\\site-packages (from kubernetes>=28.1.0->chromadb) (3.2.2)\n",
      "Requirement already satisfied: urllib3>=1.24.2 in c:\\users\\inesc\\bootcamp\\module_3\\proyecto_final_smartwaste_madrid\\venv2\\lib\\site-packages (from kubernetes>=28.1.0->chromadb) (2.3.0)\n",
      "Requirement already satisfied: durationpy>=0.7 in c:\\users\\inesc\\bootcamp\\module_3\\proyecto_final_smartwaste_madrid\\venv2\\lib\\site-packages (from kubernetes>=28.1.0->chromadb) (0.9)\n",
      "Collecting langchain-text-splitters<0.4.0,>=0.3.3 (from langchain<0.4.0,>=0.3.16->langchain_community)\n",
      "  Using cached langchain_text_splitters-0.3.5-py3-none-any.whl.metadata (2.3 kB)\n",
      "Requirement already satisfied: jsonpatch<2.0,>=1.33 in c:\\users\\inesc\\bootcamp\\module_3\\proyecto_final_smartwaste_madrid\\venv2\\lib\\site-packages (from langchain-core<0.4.0,>=0.3.33->langchain_openai) (1.33)\n",
      "Requirement already satisfied: requests-toolbelt<2.0.0,>=1.0.0 in c:\\users\\inesc\\bootcamp\\module_3\\proyecto_final_smartwaste_madrid\\venv2\\lib\\site-packages (from langsmith<0.4,>=0.1.125->langchain_community) (1.0.0)\n",
      "Requirement already satisfied: zstandard<0.24.0,>=0.23.0 in c:\\users\\inesc\\bootcamp\\module_3\\proyecto_final_smartwaste_madrid\\venv2\\lib\\site-packages (from langsmith<0.4,>=0.1.125->langchain_community) (0.23.0)\n",
      "Requirement already satisfied: coloredlogs in c:\\users\\inesc\\bootcamp\\module_3\\proyecto_final_smartwaste_madrid\\venv2\\lib\\site-packages (from onnxruntime>=1.14.1->chromadb) (15.0.1)\n",
      "Requirement already satisfied: flatbuffers in c:\\users\\inesc\\bootcamp\\module_3\\proyecto_final_smartwaste_madrid\\venv2\\lib\\site-packages (from onnxruntime>=1.14.1->chromadb) (25.1.24)\n",
      "Requirement already satisfied: protobuf in c:\\users\\inesc\\bootcamp\\module_3\\proyecto_final_smartwaste_madrid\\venv2\\lib\\site-packages (from onnxruntime>=1.14.1->chromadb) (5.29.3)\n",
      "Requirement already satisfied: sympy in c:\\users\\inesc\\bootcamp\\module_3\\proyecto_final_smartwaste_madrid\\venv2\\lib\\site-packages (from onnxruntime>=1.14.1->chromadb) (1.13.3)\n",
      "Requirement already satisfied: distro<2,>=1.7.0 in c:\\users\\inesc\\bootcamp\\module_3\\proyecto_final_smartwaste_madrid\\venv2\\lib\\site-packages (from openai<2.0.0,>=1.58.1->langchain_openai) (1.9.0)\n",
      "Requirement already satisfied: jiter<1,>=0.4.0 in c:\\users\\inesc\\bootcamp\\module_3\\proyecto_final_smartwaste_madrid\\venv2\\lib\\site-packages (from openai<2.0.0,>=1.58.1->langchain_openai) (0.8.2)\n",
      "Requirement already satisfied: deprecated>=1.2.6 in c:\\users\\inesc\\bootcamp\\module_3\\proyecto_final_smartwaste_madrid\\venv2\\lib\\site-packages (from opentelemetry-api>=1.2.0->chromadb) (1.2.18)\n",
      "Requirement already satisfied: importlib-metadata<=8.5.0,>=6.0 in c:\\users\\inesc\\bootcamp\\module_3\\proyecto_final_smartwaste_madrid\\venv2\\lib\\site-packages (from opentelemetry-api>=1.2.0->chromadb) (8.5.0)\n",
      "Requirement already satisfied: googleapis-common-protos~=1.52 in c:\\users\\inesc\\bootcamp\\module_3\\proyecto_final_smartwaste_madrid\\venv2\\lib\\site-packages (from opentelemetry-exporter-otlp-proto-grpc>=1.2.0->chromadb) (1.66.0)\n",
      "Requirement already satisfied: opentelemetry-exporter-otlp-proto-common==1.29.0 in c:\\users\\inesc\\bootcamp\\module_3\\proyecto_final_smartwaste_madrid\\venv2\\lib\\site-packages (from opentelemetry-exporter-otlp-proto-grpc>=1.2.0->chromadb) (1.29.0)\n",
      "Requirement already satisfied: opentelemetry-proto==1.29.0 in c:\\users\\inesc\\bootcamp\\module_3\\proyecto_final_smartwaste_madrid\\venv2\\lib\\site-packages (from opentelemetry-exporter-otlp-proto-grpc>=1.2.0->chromadb) (1.29.0)\n",
      "Collecting opentelemetry-instrumentation-asgi==0.50b0 (from opentelemetry-instrumentation-fastapi>=0.41b0->chromadb)\n",
      "  Using cached opentelemetry_instrumentation_asgi-0.50b0-py3-none-any.whl.metadata (1.9 kB)\n",
      "Collecting opentelemetry-instrumentation==0.50b0 (from opentelemetry-instrumentation-fastapi>=0.41b0->chromadb)\n",
      "  Using cached opentelemetry_instrumentation-0.50b0-py3-none-any.whl.metadata (6.1 kB)\n",
      "Requirement already satisfied: opentelemetry-semantic-conventions==0.50b0 in c:\\users\\inesc\\bootcamp\\module_3\\proyecto_final_smartwaste_madrid\\venv2\\lib\\site-packages (from opentelemetry-instrumentation-fastapi>=0.41b0->chromadb) (0.50b0)\n",
      "Requirement already satisfied: opentelemetry-util-http==0.50b0 in c:\\users\\inesc\\bootcamp\\module_3\\proyecto_final_smartwaste_madrid\\venv2\\lib\\site-packages (from opentelemetry-instrumentation-fastapi>=0.41b0->chromadb) (0.50b0)\n",
      "Requirement already satisfied: wrapt<2.0.0,>=1.0.0 in c:\\users\\inesc\\bootcamp\\module_3\\proyecto_final_smartwaste_madrid\\venv2\\lib\\site-packages (from opentelemetry-instrumentation==0.50b0->opentelemetry-instrumentation-fastapi>=0.41b0->chromadb) (1.17.2)\n",
      "Requirement already satisfied: asgiref~=3.0 in c:\\users\\inesc\\bootcamp\\module_3\\proyecto_final_smartwaste_madrid\\venv2\\lib\\site-packages (from opentelemetry-instrumentation-asgi==0.50b0->opentelemetry-instrumentation-fastapi>=0.41b0->chromadb) (3.8.1)\n",
      "Requirement already satisfied: pytz>=2020.1 in c:\\users\\inesc\\bootcamp\\module_3\\proyecto_final_smartwaste_madrid\\venv2\\lib\\site-packages (from pandas<3.0,>=1.0->gradio) (2025.1)\n",
      "Requirement already satisfied: tzdata>=2022.7 in c:\\users\\inesc\\bootcamp\\module_3\\proyecto_final_smartwaste_madrid\\venv2\\lib\\site-packages (from pandas<3.0,>=1.0->gradio) (2025.1)\n",
      "Requirement already satisfied: monotonic>=1.5 in c:\\users\\inesc\\bootcamp\\module_3\\proyecto_final_smartwaste_madrid\\venv2\\lib\\site-packages (from posthog>=2.4.0->chromadb) (1.6)\n",
      "Requirement already satisfied: backoff>=1.10.0 in c:\\users\\inesc\\bootcamp\\module_3\\proyecto_final_smartwaste_madrid\\venv2\\lib\\site-packages (from posthog>=2.4.0->chromadb) (2.2.1)\n",
      "Requirement already satisfied: annotated-types>=0.6.0 in c:\\users\\inesc\\bootcamp\\module_3\\proyecto_final_smartwaste_madrid\\venv2\\lib\\site-packages (from pydantic>=2.0->gradio) (0.7.0)\n",
      "Requirement already satisfied: pydantic-core==2.27.2 in c:\\users\\inesc\\bootcamp\\module_3\\proyecto_final_smartwaste_madrid\\venv2\\lib\\site-packages (from pydantic>=2.0->gradio) (2.27.2)\n",
      "Requirement already satisfied: python-dotenv>=0.21.0 in c:\\users\\inesc\\bootcamp\\module_3\\proyecto_final_smartwaste_madrid\\venv2\\lib\\site-packages (from pydantic-settings<3.0.0,>=2.4.0->langchain_community) (1.0.1)\n",
      "Requirement already satisfied: charset-normalizer<4,>=2 in c:\\users\\inesc\\bootcamp\\module_3\\proyecto_final_smartwaste_madrid\\venv2\\lib\\site-packages (from requests<3,>=2->langchain_community) (3.4.1)\n",
      "Requirement already satisfied: markdown-it-py>=2.2.0 in c:\\users\\inesc\\bootcamp\\module_3\\proyecto_final_smartwaste_madrid\\venv2\\lib\\site-packages (from rich>=10.11.0->chromadb) (3.0.0)\n",
      "Requirement already satisfied: greenlet!=0.4.17 in c:\\users\\inesc\\bootcamp\\module_3\\proyecto_final_smartwaste_madrid\\venv2\\lib\\site-packages (from SQLAlchemy<3,>=1.4->langchain_community) (3.1.1)\n",
      "Requirement already satisfied: regex>=2022.1.18 in c:\\users\\inesc\\bootcamp\\module_3\\proyecto_final_smartwaste_madrid\\venv2\\lib\\site-packages (from tiktoken<1,>=0.7->langchain_openai) (2024.11.6)\n",
      "Requirement already satisfied: click>=8.0.0 in c:\\users\\inesc\\bootcamp\\module_3\\proyecto_final_smartwaste_madrid\\venv2\\lib\\site-packages (from typer<1.0,>=0.12->gradio) (8.1.8)\n",
      "Requirement already satisfied: shellingham>=1.3.0 in c:\\users\\inesc\\bootcamp\\module_3\\proyecto_final_smartwaste_madrid\\venv2\\lib\\site-packages (from typer<1.0,>=0.12->gradio) (1.5.4)\n",
      "Requirement already satisfied: httptools>=0.6.3 in c:\\users\\inesc\\bootcamp\\module_3\\proyecto_final_smartwaste_madrid\\venv2\\lib\\site-packages (from uvicorn[standard]>=0.18.3->chromadb) (0.6.4)\n",
      "Requirement already satisfied: watchfiles>=0.13 in c:\\users\\inesc\\bootcamp\\module_3\\proyecto_final_smartwaste_madrid\\venv2\\lib\\site-packages (from uvicorn[standard]>=0.18.3->chromadb) (1.0.4)\n",
      "Requirement already satisfied: cachetools<6.0,>=2.0.0 in c:\\users\\inesc\\bootcamp\\module_3\\proyecto_final_smartwaste_madrid\\venv2\\lib\\site-packages (from google-auth>=1.0.1->kubernetes>=28.1.0->chromadb) (5.5.1)\n",
      "Requirement already satisfied: pyasn1-modules>=0.2.1 in c:\\users\\inesc\\bootcamp\\module_3\\proyecto_final_smartwaste_madrid\\venv2\\lib\\site-packages (from google-auth>=1.0.1->kubernetes>=28.1.0->chromadb) (0.4.1)\n",
      "Requirement already satisfied: rsa<5,>=3.1.4 in c:\\users\\inesc\\bootcamp\\module_3\\proyecto_final_smartwaste_madrid\\venv2\\lib\\site-packages (from google-auth>=1.0.1->kubernetes>=28.1.0->chromadb) (4.9)\n",
      "Requirement already satisfied: zipp>=3.20 in c:\\users\\inesc\\bootcamp\\module_3\\proyecto_final_smartwaste_madrid\\venv2\\lib\\site-packages (from importlib-metadata<=8.5.0,>=6.0->opentelemetry-api>=1.2.0->chromadb) (3.21.0)\n",
      "Requirement already satisfied: parso<0.9.0,>=0.8.4 in c:\\users\\inesc\\bootcamp\\module_3\\proyecto_final_smartwaste_madrid\\venv2\\lib\\site-packages (from jedi>=0.16->ipython>=6.1.0->ipywidgets) (0.8.4)\n",
      "Requirement already satisfied: jsonpointer>=1.9 in c:\\users\\inesc\\bootcamp\\module_3\\proyecto_final_smartwaste_madrid\\venv2\\lib\\site-packages (from jsonpatch<2.0,>=1.33->langchain-core<0.4.0,>=0.3.33->langchain_openai) (3.0.0)\n",
      "Requirement already satisfied: mdurl~=0.1 in c:\\users\\inesc\\bootcamp\\module_3\\proyecto_final_smartwaste_madrid\\venv2\\lib\\site-packages (from markdown-it-py>=2.2.0->rich>=10.11.0->chromadb) (0.1.2)\n",
      "Requirement already satisfied: wcwidth in c:\\users\\inesc\\bootcamp\\module_3\\proyecto_final_smartwaste_madrid\\venv2\\lib\\site-packages (from prompt_toolkit<3.1.0,>=3.0.41->ipython>=6.1.0->ipywidgets) (0.2.13)\n",
      "Requirement already satisfied: mypy-extensions>=0.3.0 in c:\\users\\inesc\\bootcamp\\module_3\\proyecto_final_smartwaste_madrid\\venv2\\lib\\site-packages (from typing-inspect<1,>=0.4.0->dataclasses-json<0.7,>=0.5.7->langchain_community) (1.0.0)\n",
      "Requirement already satisfied: humanfriendly>=9.1 in c:\\users\\inesc\\bootcamp\\module_3\\proyecto_final_smartwaste_madrid\\venv2\\lib\\site-packages (from coloredlogs->onnxruntime>=1.14.1->chromadb) (10.0)\n",
      "Requirement already satisfied: executing>=1.2.0 in c:\\users\\inesc\\bootcamp\\module_3\\proyecto_final_smartwaste_madrid\\venv2\\lib\\site-packages (from stack_data->ipython>=6.1.0->ipywidgets) (2.2.0)\n",
      "Requirement already satisfied: asttokens>=2.1.0 in c:\\users\\inesc\\bootcamp\\module_3\\proyecto_final_smartwaste_madrid\\venv2\\lib\\site-packages (from stack_data->ipython>=6.1.0->ipywidgets) (3.0.0)\n",
      "Requirement already satisfied: pure-eval in c:\\users\\inesc\\bootcamp\\module_3\\proyecto_final_smartwaste_madrid\\venv2\\lib\\site-packages (from stack_data->ipython>=6.1.0->ipywidgets) (0.2.3)\n",
      "Requirement already satisfied: mpmath<1.4,>=1.1.0 in c:\\users\\inesc\\bootcamp\\module_3\\proyecto_final_smartwaste_madrid\\venv2\\lib\\site-packages (from sympy->onnxruntime>=1.14.1->chromadb) (1.3.0)\n",
      "Requirement already satisfied: pyreadline3 in c:\\users\\inesc\\bootcamp\\module_3\\proyecto_final_smartwaste_madrid\\venv2\\lib\\site-packages (from humanfriendly>=9.1->coloredlogs->onnxruntime>=1.14.1->chromadb) (3.5.4)\n",
      "Requirement already satisfied: pyasn1<0.7.0,>=0.4.6 in c:\\users\\inesc\\bootcamp\\module_3\\proyecto_final_smartwaste_madrid\\venv2\\lib\\site-packages (from pyasn1-modules>=0.2.1->google-auth>=1.0.1->kubernetes>=28.1.0->chromadb) (0.6.1)\n",
      "Using cached langchain_openai-0.3.3-py3-none-any.whl (54 kB)\n",
      "Using cached gradio-5.14.0-py3-none-any.whl (57.7 MB)\n",
      "Using cached gradio_client-1.7.0-py3-none-any.whl (321 kB)\n",
      "Using cached chromadb-0.6.3-py3-none-any.whl (611 kB)\n",
      "Using cached langchain_community-0.3.16-py3-none-any.whl (2.5 MB)\n",
      "Using cached fastapi-0.115.8-py3-none-any.whl (94 kB)\n",
      "Using cached langchain-0.3.17-py3-none-any.whl (1.0 MB)\n",
      "Using cached langchain_core-0.3.33-py3-none-any.whl (412 kB)\n",
      "Using cached opentelemetry_exporter_otlp_proto_grpc-1.29.0-py3-none-any.whl (18 kB)\n",
      "Using cached opentelemetry_instrumentation_fastapi-0.50b0-py3-none-any.whl (12 kB)\n",
      "Using cached opentelemetry_instrumentation-0.50b0-py3-none-any.whl (30 kB)\n",
      "Using cached opentelemetry_instrumentation_asgi-0.50b0-py3-none-any.whl (16 kB)\n",
      "Using cached opentelemetry_sdk-1.29.0-py3-none-any.whl (118 kB)\n",
      "Using cached langchain_text_splitters-0.3.5-py3-none-any.whl (31 kB)\n",
      "Installing collected packages: gradio-client, fastapi, opentelemetry-sdk, opentelemetry-instrumentation, langchain-core, gradio, opentelemetry-instrumentation-asgi, opentelemetry-exporter-otlp-proto-grpc, langchain-text-splitters, langchain_openai, opentelemetry-instrumentation-fastapi, langchain, langchain_community, chromadb\n",
      "Note: you may need to restart the kernel to use updated packages.\n"
     ]
    },
    {
     "name": "stderr",
     "output_type": "stream",
     "text": [
      "ERROR: Could not install packages due to an OSError: [WinError 5] Access is denied: 'c:\\\\Users\\\\inesc\\\\Bootcamp\\\\Module_3\\\\Proyecto_Final_Smartwaste_Madrid\\\\venv2\\\\Lib\\\\site-packages\\\\langchain_core-0.3.33.dist-info\\\\RECORD9h2qq6zr.tmp' -> 'c:\\\\Users\\\\inesc\\\\Bootcamp\\\\Module_3\\\\Proyecto_Final_Smartwaste_Madrid\\\\venv2\\\\Lib\\\\site-packages\\\\langchain_core-0.3.33.dist-info\\\\RECORD'\n",
      "Check the permissions.\n",
      "\n",
      "\n",
      "[notice] A new release of pip is available: 24.0 -> 25.0\n",
      "[notice] To update, run: python.exe -m pip install --upgrade pip\n"
     ]
    }
   ],
   "source": [
    "#instalacion\n",
    "%pip install langchain_openai gradio chromadb pypdf ipywidgets langchain_community"
   ]
  },
  {
   "cell_type": "code",
   "execution_count": 9,
   "metadata": {},
   "outputs": [
    {
     "name": "stdout",
     "output_type": "stream",
     "text": [
      "Collecting gradioNote: you may need to restart the kernel to use updated packages.\n"
     ]
    },
    {
     "name": "stderr",
     "output_type": "stream",
     "text": [
      "\n",
      "[notice] A new release of pip is available: 24.0 -> 25.0\n",
      "[notice] To update, run: python.exe -m pip install --upgrade pip\n"
     ]
    },
    {
     "name": "stdout",
     "output_type": "stream",
     "text": [
      "\n",
      "  Using cached gradio-5.14.0-py3-none-any.whl.metadata (16 kB)\n",
      "Requirement already satisfied: aiofiles<24.0,>=22.0 in c:\\users\\inesc\\bootcamp\\module_3\\proyecto_final_smartwaste_madrid\\venv2\\lib\\site-packages (from gradio) (23.2.1)\n",
      "Requirement already satisfied: anyio<5.0,>=3.0 in c:\\users\\inesc\\bootcamp\\module_3\\proyecto_final_smartwaste_madrid\\venv2\\lib\\site-packages (from gradio) (4.8.0)\n",
      "Requirement already satisfied: fastapi<1.0,>=0.115.2 in c:\\users\\inesc\\bootcamp\\module_3\\proyecto_final_smartwaste_madrid\\venv2\\lib\\site-packages (from gradio) (0.115.8)\n",
      "Requirement already satisfied: ffmpy in c:\\users\\inesc\\bootcamp\\module_3\\proyecto_final_smartwaste_madrid\\venv2\\lib\\site-packages (from gradio) (0.5.0)\n",
      "Requirement already satisfied: gradio-client==1.7.0 in c:\\users\\inesc\\bootcamp\\module_3\\proyecto_final_smartwaste_madrid\\venv2\\lib\\site-packages (from gradio) (1.7.0)\n",
      "Requirement already satisfied: httpx>=0.24.1 in c:\\users\\inesc\\bootcamp\\module_3\\proyecto_final_smartwaste_madrid\\venv2\\lib\\site-packages (from gradio) (0.28.1)\n",
      "Requirement already satisfied: huggingface-hub>=0.25.1 in c:\\users\\inesc\\bootcamp\\module_3\\proyecto_final_smartwaste_madrid\\venv2\\lib\\site-packages (from gradio) (0.28.1)\n",
      "Requirement already satisfied: jinja2<4.0 in c:\\users\\inesc\\bootcamp\\module_3\\proyecto_final_smartwaste_madrid\\venv2\\lib\\site-packages (from gradio) (3.1.5)\n",
      "Requirement already satisfied: markupsafe~=2.0 in c:\\users\\inesc\\bootcamp\\module_3\\proyecto_final_smartwaste_madrid\\venv2\\lib\\site-packages (from gradio) (2.1.5)\n",
      "Requirement already satisfied: numpy<3.0,>=1.0 in c:\\users\\inesc\\bootcamp\\module_3\\proyecto_final_smartwaste_madrid\\venv2\\lib\\site-packages (from gradio) (1.26.4)\n",
      "Requirement already satisfied: orjson~=3.0 in c:\\users\\inesc\\bootcamp\\module_3\\proyecto_final_smartwaste_madrid\\venv2\\lib\\site-packages (from gradio) (3.10.15)\n",
      "Requirement already satisfied: packaging in c:\\users\\inesc\\bootcamp\\module_3\\proyecto_final_smartwaste_madrid\\venv2\\lib\\site-packages (from gradio) (24.2)\n",
      "Requirement already satisfied: pandas<3.0,>=1.0 in c:\\users\\inesc\\bootcamp\\module_3\\proyecto_final_smartwaste_madrid\\venv2\\lib\\site-packages (from gradio) (2.2.3)\n",
      "Requirement already satisfied: pillow<12.0,>=8.0 in c:\\users\\inesc\\bootcamp\\module_3\\proyecto_final_smartwaste_madrid\\venv2\\lib\\site-packages (from gradio) (11.1.0)\n",
      "Requirement already satisfied: pydantic>=2.0 in c:\\users\\inesc\\bootcamp\\module_3\\proyecto_final_smartwaste_madrid\\venv2\\lib\\site-packages (from gradio) (2.10.6)\n",
      "Requirement already satisfied: pydub in c:\\users\\inesc\\bootcamp\\module_3\\proyecto_final_smartwaste_madrid\\venv2\\lib\\site-packages (from gradio) (0.25.1)\n",
      "Requirement already satisfied: python-multipart>=0.0.18 in c:\\users\\inesc\\bootcamp\\module_3\\proyecto_final_smartwaste_madrid\\venv2\\lib\\site-packages (from gradio) (0.0.20)\n",
      "Requirement already satisfied: pyyaml<7.0,>=5.0 in c:\\users\\inesc\\bootcamp\\module_3\\proyecto_final_smartwaste_madrid\\venv2\\lib\\site-packages (from gradio) (6.0.2)\n",
      "Requirement already satisfied: ruff>=0.9.3 in c:\\users\\inesc\\bootcamp\\module_3\\proyecto_final_smartwaste_madrid\\venv2\\lib\\site-packages (from gradio) (0.9.4)\n",
      "Requirement already satisfied: safehttpx<0.2.0,>=0.1.6 in c:\\users\\inesc\\bootcamp\\module_3\\proyecto_final_smartwaste_madrid\\venv2\\lib\\site-packages (from gradio) (0.1.6)\n",
      "Requirement already satisfied: semantic-version~=2.0 in c:\\users\\inesc\\bootcamp\\module_3\\proyecto_final_smartwaste_madrid\\venv2\\lib\\site-packages (from gradio) (2.10.0)\n",
      "Requirement already satisfied: starlette<1.0,>=0.40.0 in c:\\users\\inesc\\bootcamp\\module_3\\proyecto_final_smartwaste_madrid\\venv2\\lib\\site-packages (from gradio) (0.45.3)\n",
      "Requirement already satisfied: tomlkit<0.14.0,>=0.12.0 in c:\\users\\inesc\\bootcamp\\module_3\\proyecto_final_smartwaste_madrid\\venv2\\lib\\site-packages (from gradio) (0.13.2)\n",
      "Requirement already satisfied: typer<1.0,>=0.12 in c:\\users\\inesc\\bootcamp\\module_3\\proyecto_final_smartwaste_madrid\\venv2\\lib\\site-packages (from gradio) (0.15.1)\n",
      "Requirement already satisfied: typing-extensions~=4.0 in c:\\users\\inesc\\bootcamp\\module_3\\proyecto_final_smartwaste_madrid\\venv2\\lib\\site-packages (from gradio) (4.12.2)\n",
      "Requirement already satisfied: uvicorn>=0.14.0 in c:\\users\\inesc\\bootcamp\\module_3\\proyecto_final_smartwaste_madrid\\venv2\\lib\\site-packages (from gradio) (0.34.0)\n",
      "Requirement already satisfied: fsspec in c:\\users\\inesc\\bootcamp\\module_3\\proyecto_final_smartwaste_madrid\\venv2\\lib\\site-packages (from gradio-client==1.7.0->gradio) (2025.2.0)\n",
      "Requirement already satisfied: websockets<15.0,>=10.0 in c:\\users\\inesc\\bootcamp\\module_3\\proyecto_final_smartwaste_madrid\\venv2\\lib\\site-packages (from gradio-client==1.7.0->gradio) (14.2)\n",
      "Requirement already satisfied: idna>=2.8 in c:\\users\\inesc\\bootcamp\\module_3\\proyecto_final_smartwaste_madrid\\venv2\\lib\\site-packages (from anyio<5.0,>=3.0->gradio) (3.10)\n",
      "Requirement already satisfied: sniffio>=1.1 in c:\\users\\inesc\\bootcamp\\module_3\\proyecto_final_smartwaste_madrid\\venv2\\lib\\site-packages (from anyio<5.0,>=3.0->gradio) (1.3.1)\n",
      "Requirement already satisfied: certifi in c:\\users\\inesc\\bootcamp\\module_3\\proyecto_final_smartwaste_madrid\\venv2\\lib\\site-packages (from httpx>=0.24.1->gradio) (2025.1.31)\n",
      "Requirement already satisfied: httpcore==1.* in c:\\users\\inesc\\bootcamp\\module_3\\proyecto_final_smartwaste_madrid\\venv2\\lib\\site-packages (from httpx>=0.24.1->gradio) (1.0.7)\n",
      "Requirement already satisfied: h11<0.15,>=0.13 in c:\\users\\inesc\\bootcamp\\module_3\\proyecto_final_smartwaste_madrid\\venv2\\lib\\site-packages (from httpcore==1.*->httpx>=0.24.1->gradio) (0.14.0)\n",
      "Requirement already satisfied: filelock in c:\\users\\inesc\\bootcamp\\module_3\\proyecto_final_smartwaste_madrid\\venv2\\lib\\site-packages (from huggingface-hub>=0.25.1->gradio) (3.17.0)\n",
      "Requirement already satisfied: requests in c:\\users\\inesc\\bootcamp\\module_3\\proyecto_final_smartwaste_madrid\\venv2\\lib\\site-packages (from huggingface-hub>=0.25.1->gradio) (2.32.3)\n",
      "Requirement already satisfied: tqdm>=4.42.1 in c:\\users\\inesc\\bootcamp\\module_3\\proyecto_final_smartwaste_madrid\\venv2\\lib\\site-packages (from huggingface-hub>=0.25.1->gradio) (4.67.1)\n",
      "Requirement already satisfied: python-dateutil>=2.8.2 in c:\\users\\inesc\\bootcamp\\module_3\\proyecto_final_smartwaste_madrid\\venv2\\lib\\site-packages (from pandas<3.0,>=1.0->gradio) (2.9.0.post0)\n",
      "Requirement already satisfied: pytz>=2020.1 in c:\\users\\inesc\\bootcamp\\module_3\\proyecto_final_smartwaste_madrid\\venv2\\lib\\site-packages (from pandas<3.0,>=1.0->gradio) (2025.1)\n",
      "Requirement already satisfied: tzdata>=2022.7 in c:\\users\\inesc\\bootcamp\\module_3\\proyecto_final_smartwaste_madrid\\venv2\\lib\\site-packages (from pandas<3.0,>=1.0->gradio) (2025.1)\n",
      "Requirement already satisfied: annotated-types>=0.6.0 in c:\\users\\inesc\\bootcamp\\module_3\\proyecto_final_smartwaste_madrid\\venv2\\lib\\site-packages (from pydantic>=2.0->gradio) (0.7.0)\n",
      "Requirement already satisfied: pydantic-core==2.27.2 in c:\\users\\inesc\\bootcamp\\module_3\\proyecto_final_smartwaste_madrid\\venv2\\lib\\site-packages (from pydantic>=2.0->gradio) (2.27.2)\n",
      "Requirement already satisfied: click>=8.0.0 in c:\\users\\inesc\\bootcamp\\module_3\\proyecto_final_smartwaste_madrid\\venv2\\lib\\site-packages (from typer<1.0,>=0.12->gradio) (8.1.8)\n",
      "Requirement already satisfied: shellingham>=1.3.0 in c:\\users\\inesc\\bootcamp\\module_3\\proyecto_final_smartwaste_madrid\\venv2\\lib\\site-packages (from typer<1.0,>=0.12->gradio) (1.5.4)\n",
      "Requirement already satisfied: rich>=10.11.0 in c:\\users\\inesc\\bootcamp\\module_3\\proyecto_final_smartwaste_madrid\\venv2\\lib\\site-packages (from typer<1.0,>=0.12->gradio) (13.9.4)\n",
      "Requirement already satisfied: colorama in c:\\users\\inesc\\bootcamp\\module_3\\proyecto_final_smartwaste_madrid\\venv2\\lib\\site-packages (from click>=8.0.0->typer<1.0,>=0.12->gradio) (0.4.6)\n",
      "Requirement already satisfied: six>=1.5 in c:\\users\\inesc\\bootcamp\\module_3\\proyecto_final_smartwaste_madrid\\venv2\\lib\\site-packages (from python-dateutil>=2.8.2->pandas<3.0,>=1.0->gradio) (1.17.0)\n",
      "Requirement already satisfied: markdown-it-py>=2.2.0 in c:\\users\\inesc\\bootcamp\\module_3\\proyecto_final_smartwaste_madrid\\venv2\\lib\\site-packages (from rich>=10.11.0->typer<1.0,>=0.12->gradio) (3.0.0)\n",
      "Requirement already satisfied: pygments<3.0.0,>=2.13.0 in c:\\users\\inesc\\bootcamp\\module_3\\proyecto_final_smartwaste_madrid\\venv2\\lib\\site-packages (from rich>=10.11.0->typer<1.0,>=0.12->gradio) (2.19.1)\n",
      "Requirement already satisfied: charset-normalizer<4,>=2 in c:\\users\\inesc\\bootcamp\\module_3\\proyecto_final_smartwaste_madrid\\venv2\\lib\\site-packages (from requests->huggingface-hub>=0.25.1->gradio) (3.4.1)\n",
      "Requirement already satisfied: urllib3<3,>=1.21.1 in c:\\users\\inesc\\bootcamp\\module_3\\proyecto_final_smartwaste_madrid\\venv2\\lib\\site-packages (from requests->huggingface-hub>=0.25.1->gradio) (2.3.0)\n",
      "Requirement already satisfied: mdurl~=0.1 in c:\\users\\inesc\\bootcamp\\module_3\\proyecto_final_smartwaste_madrid\\venv2\\lib\\site-packages (from markdown-it-py>=2.2.0->rich>=10.11.0->typer<1.0,>=0.12->gradio) (0.1.2)\n",
      "Using cached gradio-5.14.0-py3-none-any.whl (57.7 MB)\n",
      "Installing collected packages: gradio\n",
      "Successfully installed gradio-5.14.0\n"
     ]
    }
   ],
   "source": [
    "%pip install gradio"
   ]
  },
  {
   "cell_type": "code",
   "execution_count": 1,
   "metadata": {},
   "outputs": [],
   "source": [
    "from langchain_community.document_loaders import PyPDFLoader\n",
    "from langchain.vectorstores import Chroma\n",
    "from langchain.prompts import PromptTemplate \n",
    "from langchain_openai import ChatOpenAI, OpenAIEmbeddings\n",
    "from langchain_core.output_parsers import StrOutputParser\n",
    "from langchain_core.runnables import RunnablePassthrough\n",
    "import gradio as gr"
   ]
  },
  {
   "cell_type": "markdown",
   "metadata": {},
   "source": [
    "### Fuentes RAG"
   ]
  },
  {
   "cell_type": "code",
   "execution_count": 24,
   "metadata": {},
   "outputs": [],
   "source": [
    "url = 'https://www.madrid.es/UnidadesDescentralizadas/Educacion_Ambiental/ContenidosBasicos/Publicaciones/Residuos_Limpieza/GuiaReducirResiduos/GuíaBuenasPrácticasReducirResiduos.pdf'\n",
    "url2 = 'DATA/CS-RecogidaResiduos_Folleto2024.pdf'\n",
    "url3 = 'https://www.madrid.es/UnidadesDescentralizadas/UDCEstadistica/Nuevaweb/Publicaciones/anuesta/nuevos/Anuario%20Estadístico%20Municipal/Anuario%20estadístico%202023/Capítulos/CAPITULO%206.pdf'\n",
    "url4 = 'https://www.icv.csic.es/prevencion/Documentos/residuos/puntos.pdf'\n",
    "url5 =  'https://www.redcimas.org/wordpress/wp-content/uploads/2013/02/gestionresiduos_comparativa.pdf'\n",
    "url6 = 'https://conerrede.es/wp-content/uploads/2022/08/dossier-informativo_ayto-madrid.pdf'\n",
    "url7 = 'https://www.ucm.es/data/cont/docs/3-2019-04-08-PUNTOS%20LIMPIOS%20AYTO.%20MADRID.pdf'\n",
    "url8 = 'https://transparencia.madrid.es/FWProjects/transparencia/PlanesYMemorias/Planes/LimpiezaResiduos/ficheros/ProyectoEstrategiaResiduos2030.pdf'"
   ]
  },
  {
   "cell_type": "markdown",
   "metadata": {},
   "source": [
    "### Configuracion"
   ]
  },
  {
   "cell_type": "code",
   "execution_count": 25,
   "metadata": {},
   "outputs": [],
   "source": [
    "API_KEY = ''\n",
    "llm = ChatOpenAI(model='gpt-3.5-turbo-0125' , temperature= 0 , api_key=API_KEY)\n",
    "emmbeding = OpenAIEmbeddings(api_key= API_KEY)"
   ]
  },
  {
   "cell_type": "markdown",
   "metadata": {},
   "source": [
    "### Corpus"
   ]
  },
  {
   "cell_type": "code",
   "execution_count": 26,
   "metadata": {},
   "outputs": [],
   "source": [
    "urls = [url, url3, url4, url5, url6, url7, url8] #un libro de libros"
   ]
  },
  {
   "cell_type": "code",
   "execution_count": 27,
   "metadata": {},
   "outputs": [],
   "source": [
    "pages = []\n",
    "for url in urls:\n",
    "    pdf = PyPDFLoader(url)\n",
    "    pages += pdf.load_and_split()"
   ]
  },
  {
   "cell_type": "code",
   "execution_count": 28,
   "metadata": {},
   "outputs": [
    {
     "data": {
      "text/plain": [
       "524"
      ]
     },
     "execution_count": 28,
     "metadata": {},
     "output_type": "execute_result"
    }
   ],
   "source": [
    "len(pages)"
   ]
  },
  {
   "cell_type": "code",
   "execution_count": 29,
   "metadata": {},
   "outputs": [
    {
     "data": {
      "text/plain": [
       "Document(metadata={'source': 'https://transparencia.madrid.es/FWProjects/transparencia/PlanesYMemorias/Planes/LimpiezaResiduos/ficheros/ProyectoEstrategiaResiduos2030.pdf', 'page': 167, 'page_label': '168'}, page_content='Proyecto de Estrategia de prevención y gestión de residuos domésticos y comerciales  \\nde la ciudad de Madrid – 2030   \\nPg. 155  de 266  \\n \\n  \\n  \\nPROGRAMA 2: Medidas para la adaptación del sistema de contenerización \\ny del sistema de recogida y transporte de residuos a las fracciones \\nseparadas en origen  \\n           \\nAcción  13 Fomento de los puntos limpios    \\nMEDIDAS DE ACOMPAÑAMIENTO  \\nCampañas de comunicación y sensibilización como ReMad.  \\n  \\nINDICADORES DE SEGUIMIENTO  \\n\\uf0b7 Cantidad total de residuos recogidos respecto al a ño anterior en puntos limpios por tipología de \\nresiduo en toneladas (t). \\n\\uf0b7 Cantidad total de residuos destinados a la reutili zación provenientes de puntos limpios con relación al \\naño anterior en toneladas (t). \\n\\uf0b7 N.º de nuevos puntos limpios de proximidad y parad as de puntos limpios móviles puestos en servicio \\n\\uf0b7 N.º de visitas a los puntos limpios fijos')"
      ]
     },
     "execution_count": 29,
     "metadata": {},
     "output_type": "execute_result"
    }
   ],
   "source": [
    "pages[410]"
   ]
  },
  {
   "cell_type": "markdown",
   "metadata": {},
   "source": [
    "# Vectorstore "
   ]
  },
  {
   "cell_type": "code",
   "execution_count": 20,
   "metadata": {},
   "outputs": [
    {
     "name": "stdout",
     "output_type": "stream",
     "text": [
      "Collecting chromadb\n",
      "  Using cached chromadb-0.6.3-py3-none-any.whl.metadata (6.8 kB)\n",
      "Requirement already satisfied: build>=1.0.3 in c:\\users\\inesc\\bootcamp\\module_3\\proyecto_final_smartwaste_madrid\\venv2\\lib\\site-packages (from chromadb) (1.2.2.post1)\n",
      "Requirement already satisfied: pydantic>=1.9 in c:\\users\\inesc\\bootcamp\\module_3\\proyecto_final_smartwaste_madrid\\venv2\\lib\\site-packages (from chromadb) (2.10.6)\n",
      "Requirement already satisfied: chroma-hnswlib==0.7.6 in c:\\users\\inesc\\bootcamp\\module_3\\proyecto_final_smartwaste_madrid\\venv2\\lib\\site-packages (from chromadb) (0.7.6)\n",
      "Requirement already satisfied: fastapi>=0.95.2 in c:\\users\\inesc\\bootcamp\\module_3\\proyecto_final_smartwaste_madrid\\venv2\\lib\\site-packages (from chromadb) (0.115.8)\n",
      "Requirement already satisfied: uvicorn>=0.18.3 in c:\\users\\inesc\\bootcamp\\module_3\\proyecto_final_smartwaste_madrid\\venv2\\lib\\site-packages (from uvicorn[standard]>=0.18.3->chromadb) (0.34.0)\n",
      "Requirement already satisfied: numpy>=1.22.5 in c:\\users\\inesc\\bootcamp\\module_3\\proyecto_final_smartwaste_madrid\\venv2\\lib\\site-packages (from chromadb) (1.26.4)\n",
      "Requirement already satisfied: posthog>=2.4.0 in c:\\users\\inesc\\bootcamp\\module_3\\proyecto_final_smartwaste_madrid\\venv2\\lib\\site-packages (from chromadb) (3.11.0)\n",
      "Requirement already satisfied: typing_extensions>=4.5.0 in c:\\users\\inesc\\bootcamp\\module_3\\proyecto_final_smartwaste_madrid\\venv2\\lib\\site-packages (from chromadb) (4.12.2)\n",
      "Requirement already satisfied: onnxruntime>=1.14.1 in c:\\users\\inesc\\bootcamp\\module_3\\proyecto_final_smartwaste_madrid\\venv2\\lib\\site-packages (from chromadb) (1.20.1)\n",
      "Requirement already satisfied: opentelemetry-api>=1.2.0 in c:\\users\\inesc\\bootcamp\\module_3\\proyecto_final_smartwaste_madrid\\venv2\\lib\\site-packages (from chromadb) (1.29.0)\n",
      "Collecting opentelemetry-exporter-otlp-proto-grpc>=1.2.0 (from chromadb)\n",
      "  Using cached opentelemetry_exporter_otlp_proto_grpc-1.29.0-py3-none-any.whl.metadata (2.2 kB)\n",
      "Collecting opentelemetry-instrumentation-fastapi>=0.41b0 (from chromadb)\n",
      "  Using cached opentelemetry_instrumentation_fastapi-0.50b0-py3-none-any.whl.metadata (2.1 kB)\n",
      "Requirement already satisfied: opentelemetry-sdk>=1.2.0 in c:\\users\\inesc\\bootcamp\\module_3\\proyecto_final_smartwaste_madrid\\venv2\\lib\\site-packages (from chromadb) (1.29.0)\n",
      "Requirement already satisfied: tokenizers>=0.13.2 in c:\\users\\inesc\\bootcamp\\module_3\\proyecto_final_smartwaste_madrid\\venv2\\lib\\site-packages (from chromadb) (0.21.0)\n",
      "Requirement already satisfied: pypika>=0.48.9 in c:\\users\\inesc\\bootcamp\\module_3\\proyecto_final_smartwaste_madrid\\venv2\\lib\\site-packages (from chromadb) (0.48.9)\n",
      "Requirement already satisfied: tqdm>=4.65.0 in c:\\users\\inesc\\bootcamp\\module_3\\proyecto_final_smartwaste_madrid\\venv2\\lib\\site-packages (from chromadb) (4.67.1)\n",
      "Requirement already satisfied: overrides>=7.3.1 in c:\\users\\inesc\\bootcamp\\module_3\\proyecto_final_smartwaste_madrid\\venv2\\lib\\site-packages (from chromadb) (7.7.0)\n",
      "Requirement already satisfied: importlib-resources in c:\\users\\inesc\\bootcamp\\module_3\\proyecto_final_smartwaste_madrid\\venv2\\lib\\site-packages (from chromadb) (6.5.2)\n",
      "Requirement already satisfied: grpcio>=1.58.0 in c:\\users\\inesc\\bootcamp\\module_3\\proyecto_final_smartwaste_madrid\\venv2\\lib\\site-packages (from chromadb) (1.70.0)\n",
      "Requirement already satisfied: bcrypt>=4.0.1 in c:\\users\\inesc\\bootcamp\\module_3\\proyecto_final_smartwaste_madrid\\venv2\\lib\\site-packages (from chromadb) (4.2.1)\n",
      "Requirement already satisfied: typer>=0.9.0 in c:\\users\\inesc\\bootcamp\\module_3\\proyecto_final_smartwaste_madrid\\venv2\\lib\\site-packages (from chromadb) (0.15.1)\n",
      "Requirement already satisfied: kubernetes>=28.1.0 in c:\\users\\inesc\\bootcamp\\module_3\\proyecto_final_smartwaste_madrid\\venv2\\lib\\site-packages (from chromadb) (32.0.0)\n",
      "Requirement already satisfied: tenacity>=8.2.3 in c:\\users\\inesc\\bootcamp\\module_3\\proyecto_final_smartwaste_madrid\\venv2\\lib\\site-packages (from chromadb) (9.0.0)\n",
      "Requirement already satisfied: PyYAML>=6.0.0 in c:\\users\\inesc\\bootcamp\\module_3\\proyecto_final_smartwaste_madrid\\venv2\\lib\\site-packages (from chromadb) (6.0.2)\n",
      "Requirement already satisfied: mmh3>=4.0.1 in c:\\users\\inesc\\bootcamp\\module_3\\proyecto_final_smartwaste_madrid\\venv2\\lib\\site-packages (from chromadb) (5.1.0)\n",
      "Requirement already satisfied: orjson>=3.9.12 in c:\\users\\inesc\\bootcamp\\module_3\\proyecto_final_smartwaste_madrid\\venv2\\lib\\site-packages (from chromadb) (3.10.15)\n",
      "Requirement already satisfied: httpx>=0.27.0 in c:\\users\\inesc\\bootcamp\\module_3\\proyecto_final_smartwaste_madrid\\venv2\\lib\\site-packages (from chromadb) (0.28.1)\n",
      "Requirement already satisfied: rich>=10.11.0 in c:\\users\\inesc\\bootcamp\\module_3\\proyecto_final_smartwaste_madrid\\venv2\\lib\\site-packages (from chromadb) (13.9.4)\n",
      "Requirement already satisfied: packaging>=19.1 in c:\\users\\inesc\\bootcamp\\module_3\\proyecto_final_smartwaste_madrid\\venv2\\lib\\site-packages (from build>=1.0.3->chromadb) (24.2)\n",
      "Requirement already satisfied: pyproject_hooks in c:\\users\\inesc\\bootcamp\\module_3\\proyecto_final_smartwaste_madrid\\venv2\\lib\\site-packages (from build>=1.0.3->chromadb) (1.2.0)\n",
      "Requirement already satisfied: colorama in c:\\users\\inesc\\bootcamp\\module_3\\proyecto_final_smartwaste_madrid\\venv2\\lib\\site-packages (from build>=1.0.3->chromadb) (0.4.6)\n",
      "Requirement already satisfied: starlette<0.46.0,>=0.40.0 in c:\\users\\inesc\\bootcamp\\module_3\\proyecto_final_smartwaste_madrid\\venv2\\lib\\site-packages (from fastapi>=0.95.2->chromadb) (0.45.3)\n",
      "Requirement already satisfied: anyio in c:\\users\\inesc\\bootcamp\\module_3\\proyecto_final_smartwaste_madrid\\venv2\\lib\\site-packages (from httpx>=0.27.0->chromadb) (4.8.0)\n",
      "Requirement already satisfied: certifi in c:\\users\\inesc\\bootcamp\\module_3\\proyecto_final_smartwaste_madrid\\venv2\\lib\\site-packages (from httpx>=0.27.0->chromadb) (2025.1.31)\n",
      "Requirement already satisfied: httpcore==1.* in c:\\users\\inesc\\bootcamp\\module_3\\proyecto_final_smartwaste_madrid\\venv2\\lib\\site-packages (from httpx>=0.27.0->chromadb) (1.0.7)\n",
      "Requirement already satisfied: idna in c:\\users\\inesc\\bootcamp\\module_3\\proyecto_final_smartwaste_madrid\\venv2\\lib\\site-packages (from httpx>=0.27.0->chromadb) (3.10)\n",
      "Requirement already satisfied: h11<0.15,>=0.13 in c:\\users\\inesc\\bootcamp\\module_3\\proyecto_final_smartwaste_madrid\\venv2\\lib\\site-packages (from httpcore==1.*->httpx>=0.27.0->chromadb) (0.14.0)\n",
      "Requirement already satisfied: six>=1.9.0 in c:\\users\\inesc\\bootcamp\\module_3\\proyecto_final_smartwaste_madrid\\venv2\\lib\\site-packages (from kubernetes>=28.1.0->chromadb) (1.17.0)\n",
      "Requirement already satisfied: python-dateutil>=2.5.3 in c:\\users\\inesc\\bootcamp\\module_3\\proyecto_final_smartwaste_madrid\\venv2\\lib\\site-packages (from kubernetes>=28.1.0->chromadb) (2.9.0.post0)\n",
      "Requirement already satisfied: google-auth>=1.0.1 in c:\\users\\inesc\\bootcamp\\module_3\\proyecto_final_smartwaste_madrid\\venv2\\lib\\site-packages (from kubernetes>=28.1.0->chromadb) (2.38.0)\n",
      "Requirement already satisfied: websocket-client!=0.40.0,!=0.41.*,!=0.42.*,>=0.32.0 in c:\\users\\inesc\\bootcamp\\module_3\\proyecto_final_smartwaste_madrid\\venv2\\lib\\site-packages (from kubernetes>=28.1.0->chromadb) (1.8.0)\n",
      "Requirement already satisfied: requests in c:\\users\\inesc\\bootcamp\\module_3\\proyecto_final_smartwaste_madrid\\venv2\\lib\\site-packages (from kubernetes>=28.1.0->chromadb) (2.32.3)\n",
      "Requirement already satisfied: requests-oauthlib in c:\\users\\inesc\\bootcamp\\module_3\\proyecto_final_smartwaste_madrid\\venv2\\lib\\site-packages (from kubernetes>=28.1.0->chromadb) (2.0.0)\n",
      "Requirement already satisfied: oauthlib>=3.2.2 in c:\\users\\inesc\\bootcamp\\module_3\\proyecto_final_smartwaste_madrid\\venv2\\lib\\site-packages (from kubernetes>=28.1.0->chromadb) (3.2.2)\n",
      "Requirement already satisfied: urllib3>=1.24.2 in c:\\users\\inesc\\bootcamp\\module_3\\proyecto_final_smartwaste_madrid\\venv2\\lib\\site-packages (from kubernetes>=28.1.0->chromadb) (2.3.0)\n",
      "Requirement already satisfied: durationpy>=0.7 in c:\\users\\inesc\\bootcamp\\module_3\\proyecto_final_smartwaste_madrid\\venv2\\lib\\site-packages (from kubernetes>=28.1.0->chromadb) (0.9)\n",
      "Requirement already satisfied: coloredlogs in c:\\users\\inesc\\bootcamp\\module_3\\proyecto_final_smartwaste_madrid\\venv2\\lib\\site-packages (from onnxruntime>=1.14.1->chromadb) (15.0.1)\n",
      "Requirement already satisfied: flatbuffers in c:\\users\\inesc\\bootcamp\\module_3\\proyecto_final_smartwaste_madrid\\venv2\\lib\\site-packages (from onnxruntime>=1.14.1->chromadb) (25.1.24)\n",
      "Requirement already satisfied: protobuf in c:\\users\\inesc\\bootcamp\\module_3\\proyecto_final_smartwaste_madrid\\venv2\\lib\\site-packages (from onnxruntime>=1.14.1->chromadb) (5.29.3)\n",
      "Requirement already satisfied: sympy in c:\\users\\inesc\\bootcamp\\module_3\\proyecto_final_smartwaste_madrid\\venv2\\lib\\site-packages (from onnxruntime>=1.14.1->chromadb) (1.13.3)\n",
      "Requirement already satisfied: deprecated>=1.2.6 in c:\\users\\inesc\\bootcamp\\module_3\\proyecto_final_smartwaste_madrid\\venv2\\lib\\site-packages (from opentelemetry-api>=1.2.0->chromadb) (1.2.18)\n",
      "Requirement already satisfied: importlib-metadata<=8.5.0,>=6.0 in c:\\users\\inesc\\bootcamp\\module_3\\proyecto_final_smartwaste_madrid\\venv2\\lib\\site-packages (from opentelemetry-api>=1.2.0->chromadb) (8.5.0)\n",
      "Requirement already satisfied: googleapis-common-protos~=1.52 in c:\\users\\inesc\\bootcamp\\module_3\\proyecto_final_smartwaste_madrid\\venv2\\lib\\site-packages (from opentelemetry-exporter-otlp-proto-grpc>=1.2.0->chromadb) (1.66.0)\n",
      "Requirement already satisfied: opentelemetry-exporter-otlp-proto-common==1.29.0 in c:\\users\\inesc\\bootcamp\\module_3\\proyecto_final_smartwaste_madrid\\venv2\\lib\\site-packages (from opentelemetry-exporter-otlp-proto-grpc>=1.2.0->chromadb) (1.29.0)\n",
      "Requirement already satisfied: opentelemetry-proto==1.29.0 in c:\\users\\inesc\\bootcamp\\module_3\\proyecto_final_smartwaste_madrid\\venv2\\lib\\site-packages (from opentelemetry-exporter-otlp-proto-grpc>=1.2.0->chromadb) (1.29.0)\n",
      "Collecting opentelemetry-instrumentation-asgi==0.50b0 (from opentelemetry-instrumentation-fastapi>=0.41b0->chromadb)\n",
      "  Using cached opentelemetry_instrumentation_asgi-0.50b0-py3-none-any.whl.metadata (1.9 kB)\n",
      "Requirement already satisfied: opentelemetry-instrumentation==0.50b0 in c:\\users\\inesc\\bootcamp\\module_3\\proyecto_final_smartwaste_madrid\\venv2\\lib\\site-packages (from opentelemetry-instrumentation-fastapi>=0.41b0->chromadb) (0.50b0)\n",
      "Requirement already satisfied: opentelemetry-semantic-conventions==0.50b0 in c:\\users\\inesc\\bootcamp\\module_3\\proyecto_final_smartwaste_madrid\\venv2\\lib\\site-packages (from opentelemetry-instrumentation-fastapi>=0.41b0->chromadb) (0.50b0)\n",
      "Requirement already satisfied: opentelemetry-util-http==0.50b0 in c:\\users\\inesc\\bootcamp\\module_3\\proyecto_final_smartwaste_madrid\\venv2\\lib\\site-packages (from opentelemetry-instrumentation-fastapi>=0.41b0->chromadb) (0.50b0)\n",
      "Requirement already satisfied: wrapt<2.0.0,>=1.0.0 in c:\\users\\inesc\\bootcamp\\module_3\\proyecto_final_smartwaste_madrid\\venv2\\lib\\site-packages (from opentelemetry-instrumentation==0.50b0->opentelemetry-instrumentation-fastapi>=0.41b0->chromadb) (1.17.2)\n",
      "Requirement already satisfied: asgiref~=3.0 in c:\\users\\inesc\\bootcamp\\module_3\\proyecto_final_smartwaste_madrid\\venv2\\lib\\site-packages (from opentelemetry-instrumentation-asgi==0.50b0->opentelemetry-instrumentation-fastapi>=0.41b0->chromadb) (3.8.1)\n",
      "Requirement already satisfied: monotonic>=1.5 in c:\\users\\inesc\\bootcamp\\module_3\\proyecto_final_smartwaste_madrid\\venv2\\lib\\site-packages (from posthog>=2.4.0->chromadb) (1.6)\n",
      "Requirement already satisfied: backoff>=1.10.0 in c:\\users\\inesc\\bootcamp\\module_3\\proyecto_final_smartwaste_madrid\\venv2\\lib\\site-packages (from posthog>=2.4.0->chromadb) (2.2.1)\n",
      "Requirement already satisfied: annotated-types>=0.6.0 in c:\\users\\inesc\\bootcamp\\module_3\\proyecto_final_smartwaste_madrid\\venv2\\lib\\site-packages (from pydantic>=1.9->chromadb) (0.7.0)\n",
      "Requirement already satisfied: pydantic-core==2.27.2 in c:\\users\\inesc\\bootcamp\\module_3\\proyecto_final_smartwaste_madrid\\venv2\\lib\\site-packages (from pydantic>=1.9->chromadb) (2.27.2)\n",
      "Requirement already satisfied: markdown-it-py>=2.2.0 in c:\\users\\inesc\\bootcamp\\module_3\\proyecto_final_smartwaste_madrid\\venv2\\lib\\site-packages (from rich>=10.11.0->chromadb) (3.0.0)\n",
      "Requirement already satisfied: pygments<3.0.0,>=2.13.0 in c:\\users\\inesc\\bootcamp\\module_3\\proyecto_final_smartwaste_madrid\\venv2\\lib\\site-packages (from rich>=10.11.0->chromadb) (2.19.1)\n",
      "Requirement already satisfied: huggingface-hub<1.0,>=0.16.4 in c:\\users\\inesc\\bootcamp\\module_3\\proyecto_final_smartwaste_madrid\\venv2\\lib\\site-packages (from tokenizers>=0.13.2->chromadb) (0.28.1)\n",
      "Requirement already satisfied: click>=8.0.0 in c:\\users\\inesc\\bootcamp\\module_3\\proyecto_final_smartwaste_madrid\\venv2\\lib\\site-packages (from typer>=0.9.0->chromadb) (8.1.8)\n",
      "Requirement already satisfied: shellingham>=1.3.0 in c:\\users\\inesc\\bootcamp\\module_3\\proyecto_final_smartwaste_madrid\\venv2\\lib\\site-packages (from typer>=0.9.0->chromadb) (1.5.4)\n",
      "Requirement already satisfied: httptools>=0.6.3 in c:\\users\\inesc\\bootcamp\\module_3\\proyecto_final_smartwaste_madrid\\venv2\\lib\\site-packages (from uvicorn[standard]>=0.18.3->chromadb) (0.6.4)\n",
      "Requirement already satisfied: python-dotenv>=0.13 in c:\\users\\inesc\\bootcamp\\module_3\\proyecto_final_smartwaste_madrid\\venv2\\lib\\site-packages (from uvicorn[standard]>=0.18.3->chromadb) (1.0.1)\n",
      "Requirement already satisfied: watchfiles>=0.13 in c:\\users\\inesc\\bootcamp\\module_3\\proyecto_final_smartwaste_madrid\\venv2\\lib\\site-packages (from uvicorn[standard]>=0.18.3->chromadb) (1.0.4)\n",
      "Requirement already satisfied: websockets>=10.4 in c:\\users\\inesc\\bootcamp\\module_3\\proyecto_final_smartwaste_madrid\\venv2\\lib\\site-packages (from uvicorn[standard]>=0.18.3->chromadb) (14.2)\n",
      "Requirement already satisfied: cachetools<6.0,>=2.0.0 in c:\\users\\inesc\\bootcamp\\module_3\\proyecto_final_smartwaste_madrid\\venv2\\lib\\site-packages (from google-auth>=1.0.1->kubernetes>=28.1.0->chromadb) (5.5.1)\n",
      "Requirement already satisfied: pyasn1-modules>=0.2.1 in c:\\users\\inesc\\bootcamp\\module_3\\proyecto_final_smartwaste_madrid\\venv2\\lib\\site-packages (from google-auth>=1.0.1->kubernetes>=28.1.0->chromadb) (0.4.1)\n",
      "Requirement already satisfied: rsa<5,>=3.1.4 in c:\\users\\inesc\\bootcamp\\module_3\\proyecto_final_smartwaste_madrid\\venv2\\lib\\site-packages (from google-auth>=1.0.1->kubernetes>=28.1.0->chromadb) (4.9)\n",
      "Requirement already satisfied: filelock in c:\\users\\inesc\\bootcamp\\module_3\\proyecto_final_smartwaste_madrid\\venv2\\lib\\site-packages (from huggingface-hub<1.0,>=0.16.4->tokenizers>=0.13.2->chromadb) (3.17.0)\n",
      "Requirement already satisfied: fsspec>=2023.5.0 in c:\\users\\inesc\\bootcamp\\module_3\\proyecto_final_smartwaste_madrid\\venv2\\lib\\site-packages (from huggingface-hub<1.0,>=0.16.4->tokenizers>=0.13.2->chromadb) (2025.2.0)\n",
      "Requirement already satisfied: zipp>=3.20 in c:\\users\\inesc\\bootcamp\\module_3\\proyecto_final_smartwaste_madrid\\venv2\\lib\\site-packages (from importlib-metadata<=8.5.0,>=6.0->opentelemetry-api>=1.2.0->chromadb) (3.21.0)\n",
      "Requirement already satisfied: mdurl~=0.1 in c:\\users\\inesc\\bootcamp\\module_3\\proyecto_final_smartwaste_madrid\\venv2\\lib\\site-packages (from markdown-it-py>=2.2.0->rich>=10.11.0->chromadb) (0.1.2)\n",
      "Requirement already satisfied: charset-normalizer<4,>=2 in c:\\users\\inesc\\bootcamp\\module_3\\proyecto_final_smartwaste_madrid\\venv2\\lib\\site-packages (from requests->kubernetes>=28.1.0->chromadb) (3.4.1)\n",
      "Requirement already satisfied: sniffio>=1.1 in c:\\users\\inesc\\bootcamp\\module_3\\proyecto_final_smartwaste_madrid\\venv2\\lib\\site-packages (from anyio->httpx>=0.27.0->chromadb) (1.3.1)\n",
      "Requirement already satisfied: humanfriendly>=9.1 in c:\\users\\inesc\\bootcamp\\module_3\\proyecto_final_smartwaste_madrid\\venv2\\lib\\site-packages (from coloredlogs->onnxruntime>=1.14.1->chromadb) (10.0)\n",
      "Requirement already satisfied: mpmath<1.4,>=1.1.0 in c:\\users\\inesc\\bootcamp\\module_3\\proyecto_final_smartwaste_madrid\\venv2\\lib\\site-packages (from sympy->onnxruntime>=1.14.1->chromadb) (1.3.0)\n",
      "Requirement already satisfied: pyreadline3 in c:\\users\\inesc\\bootcamp\\module_3\\proyecto_final_smartwaste_madrid\\venv2\\lib\\site-packages (from humanfriendly>=9.1->coloredlogs->onnxruntime>=1.14.1->chromadb) (3.5.4)\n",
      "Requirement already satisfied: pyasn1<0.7.0,>=0.4.6 in c:\\users\\inesc\\bootcamp\\module_3\\proyecto_final_smartwaste_madrid\\venv2\\lib\\site-packages (from pyasn1-modules>=0.2.1->google-auth>=1.0.1->kubernetes>=28.1.0->chromadb) (0.6.1)\n",
      "Using cached chromadb-0.6.3-py3-none-any.whl (611 kB)\n",
      "Using cached opentelemetry_exporter_otlp_proto_grpc-1.29.0-py3-none-any.whl (18 kB)\n",
      "Using cached opentelemetry_instrumentation_fastapi-0.50b0-py3-none-any.whl (12 kB)\n",
      "Using cached opentelemetry_instrumentation_asgi-0.50b0-py3-none-any.whl (16 kB)\n",
      "Installing collected packages: opentelemetry-instrumentation-asgi, opentelemetry-exporter-otlp-proto-grpc, opentelemetry-instrumentation-fastapi, chromadb\n",
      "Successfully installed chromadb-0.6.3 opentelemetry-exporter-otlp-proto-grpc-1.29.0 opentelemetry-instrumentation-asgi-0.50b0 opentelemetry-instrumentation-fastapi-0.50b0\n",
      "Note: you may need to restart the kernel to use updated packages.\n"
     ]
    },
    {
     "name": "stderr",
     "output_type": "stream",
     "text": [
      "\n",
      "[notice] A new release of pip is available: 24.0 -> 25.0\n",
      "[notice] To update, run: python.exe -m pip install --upgrade pip\n"
     ]
    }
   ],
   "source": [
    "%pip install chromadb"
   ]
  },
  {
   "cell_type": "code",
   "execution_count": 30,
   "metadata": {},
   "outputs": [],
   "source": [
    "# Initialize the vectorstore with persistence\n",
    "vectorstore = Chroma.from_documents(\n",
    "    documents=pages,\n",
    "    embedding=emmbeding,\n",
    "    persist_directory=\"C:/Users/inesc/Bootcamp/Module_3/Proyecto_Final_Smartwaste_Madrid/Smartwaste_Streamlit_V2/vector_store\"  # Specify directory\n",
    ")\n",
    "\n",
    "# Persist the vectorstore to disk\n",
    "vectorstore.persist()\n",
    "\n",
    "# Create a retriever\n",
    "retriever = vectorstore.as_retriever()"
   ]
  },
  {
   "cell_type": "markdown",
   "metadata": {},
   "source": [
    "# Prompt Template"
   ]
  },
  {
   "cell_type": "code",
   "execution_count": 31,
   "metadata": {},
   "outputs": [],
   "source": [
    " template = \"\"\"\n",
    "          ###INSTRUCCIONES:\n",
    "          Eres un asistente virtual en tareas de concienciacion del reciclaje y las buenas practicas medioambientales y tu objetivo es recopilar y dar respuesta segun la informacion que tienes a las preguntas que te planteen los usuarios.Seimpre con un tono amigable y pedagogico.\n",
    "\n",
    "          En tu respuesta, SIEMPRE:\n",
    "          (0)Se un lector atento a los detalles: Lee la pregunta y el contexto, entiende ambos antes de responder\n",
    "          (1)Tu respuesta comienza con un tono amigable, asegúrate de que entiendes la pregunta del usuario correctamente, en caso negativo, pregunta al usuario para obtener más información.\n",
    "          (2)Si el contexto te permite responder a la pregunta, escribe una respuesta detallada, útil y fácil de entender, CON FUENTES REFERENCIADAS EN EL TEXTO. SI NO: no puedes encontrar la respuesta, responde con una explicación, comenzando con: \"No pude encontrar la información en los documentos a los que tengo acceso\".\n",
    "          (3)Debajo de tu respuesta, proporciona un enlace a la fuente referenciada( Es decir, párrafos legales, artículos, etc.) y una breve explicación de por qué la fuente es relevante.\n",
    "          (4)Ahora que ya tienes tu respuesta, revísala para asegurarte de que sea clara, precisa y educada y cumple con los puntos anteriores.\n",
    "\n",
    "          ###PIENSA PASO POR PASO\n",
    "\n",
    "            Responde a la siguiente pregunta utilizando el contexto proporcionado.\n",
    "              ### Question: {question} ###\n",
    "              ### Context: {context} ###\n",
    "              ### Respuesta 'util con Fuentes:        \n",
    "\"\"\"\n",
    "\n",
    "prompt = PromptTemplate.from_template(template)"
   ]
  },
  {
   "cell_type": "markdown",
   "metadata": {},
   "source": [
    "## Chain"
   ]
  },
  {
   "cell_type": "code",
   "execution_count": 32,
   "metadata": {},
   "outputs": [],
   "source": [
    "chain = (\n",
    "    {'context':retriever,\n",
    "     'question':RunnablePassthrough()}\n",
    "     | prompt\n",
    "     | llm\n",
    "     | StrOutputParser()\n",
    ")"
   ]
  },
  {
   "cell_type": "code",
   "execution_count": 33,
   "metadata": {},
   "outputs": [],
   "source": [
    "def get_asnwer(question):\n",
    "    return chain.invoke(question)"
   ]
  },
  {
   "cell_type": "code",
   "execution_count": 34,
   "metadata": {},
   "outputs": [
    {
     "data": {
      "text/plain": [
       "'¡Hola! Para encontrar un punto limpio en Carabanchel, puedes dirigirte a la siguiente dirección:\\n\\nCalle Cidro, 5 (Barrio Buenavista) 28044 Madrid\\n\\nAdemás, te dejo los horarios de los diferentes puntos limpios en Carabanchel:\\n- C/ Carlos Daban, frente 28. Horario: lunes de 14 a 15:30 horas.\\n- Avda. de Oporto, 96. Horario: lunes de 15:45 a 17:15 horas.\\n- Avda. Plaza de Toros, frente 8. Horario: lunes de 17:30 a 19 horas.\\n- C/ Mazarambroz, 8. Horario: lunes de 19:15 a 20:45 horas.\\n\\nRecuerda que los puntos limpios son lugares donde puedes llevar residuos especiales para su correcta gestión y reciclaje. ¡Espero que esta información te sea útil!\\n\\nPara más detalles, puedes consultar el documento oficial del Ayuntamiento de Madrid donde se detallan los puntos limpios en la ciudad: [Enlace al documento](https://www.ucm.es/data/cont/docs/3-2019-04-08-PUNTOS%20LIMPIOS%20AYTO.%20MADRID.pdf). Esta fuente es relevante ya que proporciona información oficial y detallada sobre la ubicación y horarios de los puntos limpios en Carabanchel y otras zonas de Madrid.'"
      ]
     },
     "execution_count": 34,
     "metadata": {},
     "output_type": "execute_result"
    }
   ],
   "source": [
    "get_asnwer('donde puedo encotrar un punto limpio en carabanchel')"
   ]
  },
  {
   "cell_type": "code",
   "execution_count": 16,
   "metadata": {},
   "outputs": [
    {
     "name": "stderr",
     "output_type": "stream",
     "text": [
      "c:\\Users\\inesc\\Bootcamp\\Module_3\\Proyecto_Final_Smartwaste_Madrid\\Smartwaste_Streamlit_V2\\venv2\\Lib\\site-packages\\gradio\\interface.py:403: UserWarning: The `allow_flagging` parameter in `Interface` is deprecated.Use `flagging_mode` instead.\n",
      "  warnings.warn(\n"
     ]
    },
    {
     "name": "stdout",
     "output_type": "stream",
     "text": [
      "* Running on local URL:  http://127.0.0.1:7860\n",
      "\n",
      "To create a public link, set `share=True` in `launch()`.\n"
     ]
    },
    {
     "data": {
      "text/html": [
       "<div><iframe src=\"http://127.0.0.1:7860/\" width=\"100%\" height=\"500\" allow=\"autoplay; camera; microphone; clipboard-read; clipboard-write;\" frameborder=\"0\" allowfullscreen></iframe></div>"
      ],
      "text/plain": [
       "<IPython.core.display.HTML object>"
      ]
     },
     "metadata": {},
     "output_type": "display_data"
    },
    {
     "data": {
      "text/plain": []
     },
     "execution_count": 16,
     "metadata": {},
     "output_type": "execute_result"
    }
   ],
   "source": [
    "iface = gr.Interface(fn=get_asnwer, inputs=gr.Textbox(\n",
    "    value=\"Pregúntame lo que necesites\"),\n",
    "    live=False, \n",
    "    outputs=\"markdown\",  \n",
    "    title=\"Inteligencia sobre documentación mediante LLM\",\n",
    "    description=\"Puedes preguntar cualquier pregunta sobre migración\",\n",
    "    theme=gr.themes.Soft(),\n",
    "    allow_flagging=\"never\",)\n",
    "\n",
    "iface.launch()"
   ]
  }
 ],
 "metadata": {
  "kernelspec": {
   "display_name": "venv2",
   "language": "python",
   "name": "python3"
  },
  "language_info": {
   "codemirror_mode": {
    "name": "ipython",
    "version": 3
   },
   "file_extension": ".py",
   "mimetype": "text/x-python",
   "name": "python",
   "nbconvert_exporter": "python",
   "pygments_lexer": "ipython3",
   "version": "3.11.9"
  }
 },
 "nbformat": 4,
 "nbformat_minor": 2
}
